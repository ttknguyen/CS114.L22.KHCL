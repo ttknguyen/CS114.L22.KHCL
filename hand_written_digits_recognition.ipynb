{
  "nbformat": 4,
  "nbformat_minor": 0,
  "metadata": {
    "colab": {
      "name": "hand-written_digits_recognition.ipynb",
      "provenance": [],
      "collapsed_sections": [
        "_OYpLh3oiHJK",
        "XM-cBARUpbNY"
      ],
      "toc_visible": true,
      "include_colab_link": true
    },
    "kernelspec": {
      "name": "python3",
      "display_name": "Python 3"
    },
    "language_info": {
      "name": "python"
    }
  },
  "cells": [
    {
      "cell_type": "markdown",
      "metadata": {
        "id": "view-in-github",
        "colab_type": "text"
      },
      "source": [
        "<a href=\"https://colab.research.google.com/github/ttknguyen/CS114.L22.KHCL/blob/master/hand_written_digits_recognition.ipynb\" target=\"_parent\"><img src=\"https://colab.research.google.com/assets/colab-badge.svg\" alt=\"Open In Colab\"/></a>"
      ]
    },
    {
      "cell_type": "markdown",
      "metadata": {
        "id": "iCoUBbzNhv6I"
      },
      "source": [
        "#**Bài tập colab số 1: Hand-written digits recognition**\n",
        "**Thành viên:**\n",
        "*   Thái Trần Khánh Nguyên - 19520188\n",
        "*   Nguyễn Khánh Như - 19520209\n",
        "*   Đoàn Nguyễn Nhật Quang - 19520235"
      ]
    },
    {
      "cell_type": "markdown",
      "metadata": {
        "id": "_-zA_-fehdnn"
      },
      "source": [
        "<a name=\"cell-id\"></a>\n",
        "# **Mục 1:** Hand-written_digits_training\n"
      ]
    },
    {
      "cell_type": "markdown",
      "metadata": {
        "id": "_OYpLh3oiHJK"
      },
      "source": [
        "## Import libraries"
      ]
    },
    {
      "cell_type": "markdown",
      "metadata": {
        "id": "YiO87bpE4mZq"
      },
      "source": [
        "Đầu tiên ta cần thêm vào các thư viện cần thiết cho bài toán Hand-written digits"
      ]
    },
    {
      "cell_type": "code",
      "metadata": {
        "colab": {
          "base_uri": "https://localhost:8080/"
        },
        "id": "dG9JelH1hQjF",
        "outputId": "33e9a5c5-312d-4a0a-b6d5-7d267ea91c45"
      },
      "source": [
        "print(__doc__)\n",
        "import matplotlib.pyplot as plt\n",
        "from sklearn import datasets, svm, metrics\n",
        "from sklearn.model_selection import train_test_split\n",
        "import cv2 as cv\n",
        "from google.colab.patches import cv2_imshow\n",
        "import numpy as np\n",
        "from google.colab import drive\n",
        "import os\n",
        "from sklearn.metrics import accuracy_score"
      ],
      "execution_count": null,
      "outputs": [
        {
          "output_type": "stream",
          "text": [
            "Automatically created module for IPython interactive environment\n"
          ],
          "name": "stdout"
        }
      ]
    },
    {
      "cell_type": "markdown",
      "metadata": {
        "id": "UlFTLqg95C9f"
      },
      "source": [
        "Kết nối với drive của nhóm để lưu hình chụp và lấy hình khi cần thiết"
      ]
    },
    {
      "cell_type": "code",
      "metadata": {
        "colab": {
          "base_uri": "https://localhost:8080/"
        },
        "id": "3-UhPePN6kvY",
        "outputId": "69da94df-3bc5-4b04-e483-088de71a6340"
      },
      "source": [
        "drive.mount('/gdrive')"
      ],
      "execution_count": null,
      "outputs": [
        {
          "output_type": "stream",
          "text": [
            "Mounted at /gdrive\n"
          ],
          "name": "stdout"
        }
      ]
    },
    {
      "cell_type": "code",
      "metadata": {
        "id": "SjQ6lAl960Ws"
      },
      "source": [
        "dir_monhoc = '/gdrive/MyDrive/MachineLearning/CS114.L22.KHCL'\n",
        "dir_baitap = os.path.join(dir_monhoc, 'Check')"
      ],
      "execution_count": null,
      "outputs": []
    },
    {
      "cell_type": "markdown",
      "metadata": {
        "id": "y8vAlJgZh91p"
      },
      "source": [
        "## Digits dataset"
      ]
    },
    {
      "cell_type": "markdown",
      "metadata": {
        "id": "s89HOEJPOHbb"
      },
      "source": [
        "Bộ dữ liệu về chữ số dưới đây là tập hợp của các ảnh với kích thước 8x8.\n",
        "*   Thuộc tính \"images\" là 1 tập hợp của các mảng có kích thước 8x8 mang các \"grayscale values\" cho mỗi ảnh. Các mảng này được dùng để \"visualize\" hình ảnh của các chữ số.\n",
        "*   Thuộc tính \"target\" của bộ dữ liệu lưu trữ giá trị chữ số mà mỗi hình ảnh đại diện.\n",
        "\n"
      ]
    },
    {
      "cell_type": "code",
      "metadata": {
        "colab": {
          "base_uri": "https://localhost:8080/"
        },
        "id": "B2SBGUBriQ6C",
        "outputId": "0c3f938f-091a-428a-d0ab-1275f6e07ad0"
      },
      "source": [
        "digits = datasets.load_digits()\n",
        "\n",
        "_, axes = plt.subplots(nrows=1, ncols=10, figsize=(15, 3))\n",
        "for ax, image, label in zip(axes, digits.images, digits.target):\n",
        "    ax.set_axis_off()\n",
        "    ax.imshow(image, cmap=plt.cm.gray_r, interpolation='nearest')\n",
        "    ax.set_title('Training: %i' % label)"
      ],
      "execution_count": null,
      "outputs": [
        {
          "output_type": "display_data",
          "data": {
            "image/png": "[encoded data removed]",
            "text/plain": [
              "<Figure size 1080x216 with 10 Axes>"
            ]
          },
          "metadata": {
            "tags": [],
            "needs_background": "light"
          }
        }
      ]
    },
    {
      "cell_type": "markdown",
      "metadata": {
        "id": "yhRJukzMHo-Z"
      },
      "source": [
        "## Classification"
      ]
    },
    {
      "cell_type": "markdown",
      "metadata": {
        "id": "ZfUSmbbJcJKQ"
      },
      "source": [
        "Để áp dụng mô hình phân lớp cho bộ dữ liệu, chúng ta cần phải \"flatten the images\" bằng cách chuyển từng mảng 2-D mang các \"grayscale values\" từ ma trận (8, 8) sang ma trận (64, ). Ta được bộ dữ liệu có dạng (n_samples, n_features):\n",
        "* n_samples: số lượng hình ảnh.\n",
        "* n_features: tổng số pixels của từng hình ảnh.\n",
        "\n",
        "Chúng ta có thể chia dữ liệu thành 2 phần: train subsets và test subsets sao cho phù hợp với \"support vector classifier\" trên \"train samples\".\n",
        "\n",
        "➔ Bộ phân loại phù hợp sẽ được dùng để dự đoán giá trị chữ số cho các mẫu trong tập test subsets."
      ]
    },
    {
      "cell_type": "code",
      "metadata": {
        "id": "lKjPhr-Pijf7"
      },
      "source": [
        "# flatten the images\n",
        "n_samples = len(digits.images)\n",
        "data = digits.images.reshape((n_samples, -1))\n",
        "\n",
        "# Create a classifier: a support vector classifier\n",
        "clf = svm.SVC(gamma=0.001)\n",
        "\n",
        "# Split data into 50% train and 50% test subsets\n",
        "X_train, X_test, y_train, y_test = train_test_split(\n",
        "    data, digits.target, test_size=0.5, shuffle=False)\n",
        "\n",
        "# Learn the digits on the train subset\n",
        "clf.fit(X_train, y_train)\n",
        "\n",
        "# Predict the value of the digit on the test subset\n",
        "predicted = clf.predict(X_test)"
      ],
      "execution_count": null,
      "outputs": []
    },
    {
      "cell_type": "code",
      "metadata": {
        "colab": {
          "base_uri": "https://localhost:8080/"
        },
        "id": "PGGiKQiuiv-j",
        "outputId": "ea779a40-bd2a-4673-d9db-be054ac6b209"
      },
      "source": [
        "_, axes = plt.subplots(nrows=1, ncols=4, figsize=(10, 3))\n",
        "for ax, image, prediction in zip(axes, X_test, predicted):\n",
        "    ax.set_axis_off()\n",
        "    image = image.reshape(8, 8)\n",
        "    ax.imshow(image, cmap=plt.cm.gray_r, interpolation='nearest')\n",
        "    ax.set_title(f'Prediction: {prediction}')"
      ],
      "execution_count": null,
      "outputs": [
        {
          "output_type": "display_data",
          "data": {
            "image/png": "[encoded data removed]",
            "text/plain": [
              "<Figure size 720x216 with 4 Axes>"
            ]
          },
          "metadata": {
            "tags": [],
            "needs_background": "light"
          }
        }
      ]
    },
    {
      "cell_type": "code",
      "metadata": {
        "colab": {
          "base_uri": "https://localhost:8080/"
        },
        "id": "LV7EjYE0izxv",
        "outputId": "c348a107-71c2-4378-8aa6-6df6f8bbc7cf"
      },
      "source": [
        "print(f\"Classification report for classifier {clf}:\\n\"\n",
        "      f\"{metrics.classification_report(y_test, predicted)}\\n\")"
      ],
      "execution_count": null,
      "outputs": [
        {
          "output_type": "stream",
          "text": [
            "Classification report for classifier SVC(C=1.0, break_ties=False, cache_size=200, class_weight=None, coef0=0.0,\n",
            "    decision_function_shape='ovr', degree=3, gamma=0.001, kernel='rbf',\n",
            "    max_iter=-1, probability=False, random_state=None, shrinking=True,\n",
            "    tol=0.001, verbose=False):\n",
            "              precision    recall  f1-score   support\n",
            "\n",
            "           0       1.00      0.99      0.99        88\n",
            "           1       0.99      0.97      0.98        91\n",
            "           2       0.99      0.99      0.99        86\n",
            "           3       0.98      0.87      0.92        91\n",
            "           4       0.99      0.96      0.97        92\n",
            "           5       0.95      0.97      0.96        91\n",
            "           6       0.99      0.99      0.99        91\n",
            "           7       0.96      0.99      0.97        89\n",
            "           8       0.94      1.00      0.97        88\n",
            "           9       0.93      0.98      0.95        92\n",
            "\n",
            "    accuracy                           0.97       899\n",
            "   macro avg       0.97      0.97      0.97       899\n",
            "weighted avg       0.97      0.97      0.97       899\n",
            "\n",
            "\n"
          ],
          "name": "stdout"
        }
      ]
    },
    {
      "cell_type": "code",
      "metadata": {
        "colab": {
          "base_uri": "https://localhost:8080/"
        },
        "id": "wsxzXJXmi1Hk",
        "outputId": "6b29c65f-9060-454d-8f14-411f0bef5657"
      },
      "source": [
        "disp = metrics.plot_confusion_matrix(clf, X_test, y_test)\n",
        "disp.figure_.suptitle(\"Confusion Matrix\")\n",
        "print(f\"Confusion matrix:\\n{disp.confusion_matrix}\")\n",
        " \n",
        "plt.show()"
      ],
      "execution_count": null,
      "outputs": [
        {
          "output_type": "stream",
          "text": [
            "Confusion matrix:\n",
            "[[87  0  0  0  1  0  0  0  0  0]\n",
            " [ 0 88  1  0  0  0  0  0  1  1]\n",
            " [ 0  0 85  1  0  0  0  0  0  0]\n",
            " [ 0  0  0 79  0  3  0  4  5  0]\n",
            " [ 0  0  0  0 88  0  0  0  0  4]\n",
            " [ 0  0  0  0  0 88  1  0  0  2]\n",
            " [ 0  1  0  0  0  0 90  0  0  0]\n",
            " [ 0  0  0  0  0  1  0 88  0  0]\n",
            " [ 0  0  0  0  0  0  0  0 88  0]\n",
            " [ 0  0  0  1  0  1  0  0  0 90]]\n"
          ],
          "name": "stdout"
        },
        {
          "output_type": "display_data",
          "data": {
            "image/png": "[encoded data removed]",
            "text/plain": [
              "<Figure size 432x288 with 2 Axes>"
            ]
          },
          "metadata": {
            "tags": [],
            "needs_background": "light"
          }
        }
      ]
    },
    {
      "cell_type": "markdown",
      "metadata": {
        "id": "XM-cBARUpbNY"
      },
      "source": [
        "<a name=\"cell-id2\"></a>\n",
        "# **Mục 2:** Accessing webcam\n"
      ]
    },
    {
      "cell_type": "code",
      "metadata": {
        "id": "h6o41AeFjigh"
      },
      "source": [
        "from IPython.display import display, Javascript\n",
        "from google.colab.output import eval_js\n",
        "from base64 import b64decode\n",
        "\n",
        "def take_photo(filename='photo.jpg', quality=0.8):\n",
        "  js = Javascript('''\n",
        "    async function takePhoto(quality) {\n",
        "      const div = document.createElement('div');\n",
        "      const capture = document.createElement('button');\n",
        "      capture.textContent = 'Capture';\n",
        "      div.appendChild(capture);\n",
        "\n",
        "      const video = document.createElement('video');\n",
        "      video.style.display = 'block';\n",
        "      const stream = await navigator.mediaDevices.getUserMedia({video: true});\n",
        "\n",
        "      document.body.appendChild(div);\n",
        "      div.appendChild(video);\n",
        "      video.srcObject = stream;\n",
        "      await video.play();\n",
        "\n",
        "      // Resize the output to fit the video element.\n",
        "      google.colab.output.setIframeHeight(document.documentElement.scrollHeight, true);\n",
        "\n",
        "      // Wait for Capture to be clicked.\n",
        "      await new Promise((resolve) => capture.onclick = resolve);\n",
        "\n",
        "      const canvas = document.createElement('canvas');\n",
        "      canvas.width = video.videoWidth;\n",
        "      canvas.height = video.videoHeight;\n",
        "      canvas.getContext('2d').drawImage(video, 0, 0);\n",
        "      stream.getVideoTracks()[0].stop();\n",
        "      div.remove();\n",
        "      return canvas.toDataURL('image/jpeg', quality);\n",
        "    }\n",
        "    ''')\n",
        "  display(js)\n",
        "  data = eval_js('takePhoto({})'.format(quality))\n",
        "  binary = b64decode(data.split(',')[1])\n",
        "  with open(filename, 'wb') as f:\n",
        "    f.write(binary)\n",
        "  return filename"
      ],
      "execution_count": null,
      "outputs": []
    },
    {
      "cell_type": "code",
      "metadata": {
        "id": "S7EGnPeVjigm",
        "colab": {
          "base_uri": "https://localhost:8080/",
          "height": 513
        },
        "outputId": "07227546-57dc-4a8c-c94f-d7ac619d3baa"
      },
      "source": [
        "from IPython.display import Image\n",
        "try:\n",
        "  filename = take_photo()\n",
        "  print('Saved to {}'.format(filename))\n",
        "  \n",
        "  # Show the image which was just taken.\n",
        "  display(Image(filename))\n",
        "except Exception as err:\n",
        "  # Errors will be thrown if the user does not have a webcam or if they do not\n",
        "  # grant the page permission to access it.\n",
        "  print(str(err))"
      ],
      "execution_count": null,
      "outputs": [
        {
          "output_type": "display_data",
          "data": {
            "application/javascript": [
              "\n",
              "    async function takePhoto(quality) {\n",
              "      const div = document.createElement('div');\n",
              "      const capture = document.createElement('button');\n",
              "      capture.textContent = 'Capture';\n",
              "      div.appendChild(capture);\n",
              "\n",
              "      const video = document.createElement('video');\n",
              "      video.style.display = 'block';\n",
              "      const stream = await navigator.mediaDevices.getUserMedia({video: true});\n",
              "\n",
              "      document.body.appendChild(div);\n",
              "      div.appendChild(video);\n",
              "      video.srcObject = stream;\n",
              "      await video.play();\n",
              "\n",
              "      // Resize the output to fit the video element.\n",
              "      google.colab.output.setIframeHeight(document.documentElement.scrollHeight, true);\n",
              "\n",
              "      // Wait for Capture to be clicked.\n",
              "      await new Promise((resolve) => capture.onclick = resolve);\n",
              "\n",
              "      const canvas = document.createElement('canvas');\n",
              "      canvas.width = video.videoWidth;\n",
              "      canvas.height = video.videoHeight;\n",
              "      canvas.getContext('2d').drawImage(video, 0, 0);\n",
              "      stream.getVideoTracks()[0].stop();\n",
              "      div.remove();\n",
              "      return canvas.toDataURL('image/jpeg', quality);\n",
              "    }\n",
              "    "
            ],
            "text/plain": [
              "<IPython.core.display.Javascript object>"
            ]
          },
          "metadata": {
            "tags": []
          }
        },
        {
          "output_type": "stream",
          "text": [
            "Saved to photo.jpg\n"
          ],
          "name": "stdout"
        },
        {
          "output_type": "display_data",
          "data": {
            "image/jpeg": "[encoded data removed]",
            "text/plain": [
              "<IPython.core.display.Image object>"
            ]
          },
          "metadata": {
            "tags": []
          }
        }
      ]
    },
    {
      "cell_type": "markdown",
      "metadata": {
        "id": "TeOru1xY3jbq"
      },
      "source": [
        "<a name=\"cell-id4\"></a>\n",
        "# **Mục 3:** Preprocessing Image"
      ]
    },
    {
      "cell_type": "markdown",
      "metadata": {
        "id": "-zPqvGdk7FZK"
      },
      "source": [
        "- Để có thể tập trung vào con số trong bức ảnh để mô hình có thể nhận diện chính xác hơn, nhóm chúng em sẽ cắt bỏ những phần không cần thiết cũng như những phần gây nhiễu. \n",
        "- Hàm detectDegit xây dựng như sau:\n",
        "  1.   Tìm các điểm có giá trị 255 có vị trí cao nhất và thấp nhất\n",
        "  2.   Tìm các điểm có gì trị 255 có vị trí trái cùng và phải cùng\n",
        "  3.   Cắt bỏ hình theo bốn điểm vừa tìm phía trên\n",
        "- Ví dụ với hình sau: \n",
        "\n",
        "\n"
      ]
    },
    {
      "cell_type": "code",
      "metadata": {
        "id": "rpIAVHL1qQ9M"
      },
      "source": [
        "def detectDigit(img):\n",
        "  u, b, l, r = len(img), 0, len(img[0]), 0\n",
        "  for j in range(len(img[0])): \n",
        "    for i in range(len(img)):\n",
        "      if (img[i][j] == 255): u, b, l, r = min(i, u), max(i, b), min(j, l), max(j, r)\n",
        "  u, b, l, r = max(0, u-5), min(b+5, len(img)), max(0, l-5), min(r+5, len(img[0]))\n",
        "  return img[u:b, l:r]"
      ],
      "execution_count": null,
      "outputs": []
    },
    {
      "cell_type": "markdown",
      "metadata": {
        "id": "sMRVVTLH92cw"
      },
      "source": [
        "- Nhằm tăng độ chính xác khi nhận diện số thì nhóm em đưa hình về dạng chỉ còn 2 màu là trắng ( Màu của chữ) và đen (background). Do tránh nhận dạng nhầm các chi tiết nhiễu trong hình.\n",
        "\n",
        "- Nhóm em xây dựng hàm để chuẩn hóa màu của hình lại như sau:\n",
        "  1. Những phần tử màu nào có mức sáng lớn hơn 90 sẽ trở thành background - giá trị  = 0\n",
        "  2. Những phần tử còn lại sẽ là chữ số cần nhận diện nên có giá trij bằng 255\n",
        "\n",
        "\n"
      ]
    },
    {
      "cell_type": "code",
      "metadata": {
        "id": "wWTAurcJVbK_"
      },
      "source": [
        "def ChuanHoaMau(img):\n",
        "  for i in range(len(img)):\n",
        "    for j in range(len(img[0])):\n",
        "      if (img[i][j] < 90):\n",
        "        img[i][j] = 255\n",
        "      else: img[i][j] = 0\n",
        "  return img"
      ],
      "execution_count": null,
      "outputs": []
    },
    {
      "cell_type": "markdown",
      "metadata": {
        "id": "4hgB1YYoBdAV"
      },
      "source": [
        "- Vậy sau khi một hình ảnh được chụp lại bằng webcam sau khi qua các bức tiền xử lý sẽ có các đặc điểm:\n",
        "  * Được crop bỏ các chi tiết thừa và gây nhiễu tập trung vào chữ số cần nhận diện\n",
        "  * Chỉ gồm 2 màu trắng (màu chữ) và đen (màu nền) "
      ]
    },
    {
      "cell_type": "markdown",
      "metadata": {
        "id": "F5lXf9l54NXy"
      },
      "source": [
        "# **Mục 4:** Experiments"
      ]
    },
    {
      "cell_type": "markdown",
      "metadata": {
        "id": "aK9b8TL5u6Yi"
      },
      "source": [
        "## Testing model"
      ]
    },
    {
      "cell_type": "markdown",
      "metadata": {
        "id": "o3X1ydAi06H_"
      },
      "source": [
        "Ở cell này nhóm em thực hiện việc đọc ảnh ở mode grayscale và thực hiện các bước tiền xử lý ảnh."
      ]
    },
    {
      "cell_type": "code",
      "metadata": {
        "colab": {
          "base_uri": "https://localhost:8080/",
          "height": 400
        },
        "id": "lIrRV8nuqmwc",
        "outputId": "93ae28e3-f10a-4634-c9f4-0ed560a2bdde"
      },
      "source": [
        "image = cv.imread(filename, 0)\n",
        "image = detectDigit(ChuanHoaMau(image))\n",
        "cv2_imshow(image)"
      ],
      "execution_count": null,
      "outputs": [
        {
          "output_type": "display_data",
          "data": {
            "image/png": "[encoded data removed]",
            "text/plain": [
              "<PIL.Image.Image image mode=L size=450x383 at 0x7FA994E46A10>"
            ]
          },
          "metadata": {
            "tags": []
          }
        }
      ]
    },
    {
      "cell_type": "markdown",
      "metadata": {
        "id": "aYnxt041XICh"
      },
      "source": [
        "Sau khi qua bước tiền xử lý ảnh, để có thể ứng dụng vào mô hình ở\n",
        "[Mục 1](#cell-id) chúng ta cần:\n",
        "  * Đưa ảnh về size 8x8\n",
        "  * Chuyển các giá trị trong mảng về khoảng 0-16. Do mỗi điểm ảnh có giá trị cao nhất là 255 nên ta sẽ chia mỗi phần tử cho 16 để đưa về dạng chuẩn.\n",
        "  * Reshape ảnh về (1,64)"
      ]
    },
    {
      "cell_type": "code",
      "metadata": {
        "colab": {
          "base_uri": "https://localhost:8080/",
          "height": 263
        },
        "id": "fkO_vV2Lt78E",
        "outputId": "5ca4d08d-9a05-40b8-a070-962acc733cc7"
      },
      "source": [
        "plt.figure(figsize=(12,4.5))\n",
        "plt.subplot(131)\n",
        "\n",
        "imageResize = image // 16 \n",
        "imageResize = cv.resize(imageResize, (8, 8), interpolation = cv.INTER_AREA)\n",
        "\n",
        "plt.imshow(imageResize, cmap = 'gray', interpolation='nearest')\n",
        "plt.title(\"Predict: \" + str(*clf.predict(imageResize.reshape(1, 64))), y = -0.2)\n",
        "\n",
        "plt.show()"
      ],
      "execution_count": null,
      "outputs": [
        {
          "output_type": "display_data",
          "data": {
            "image/png": "[encoded data removed]",
            "text/plain": [
              "<Figure size 864x324 with 1 Axes>"
            ]
          },
          "metadata": {
            "tags": [],
            "needs_background": "light"
          }
        }
      ]
    },
    {
      "cell_type": "markdown",
      "metadata": {
        "id": "wjg_TlETvFk4"
      },
      "source": [
        "## Check"
      ]
    },
    {
      "cell_type": "markdown",
      "metadata": {
        "id": "0g41nVbm10rG"
      },
      "source": [
        "- Nhóm em sẽ thực hiện kiểm tra với nhiều hình ảnh khác nhau để kiểm chứng độ chính xác của mô hình trong thực tế."
      ]
    },
    {
      "cell_type": "markdown",
      "metadata": {
        "id": "He0q5W9B3k_Q"
      },
      "source": [
        "- Chụp hình các chữ số viết tay bằng webcam, số sẽ được chụp ở nhiều vị trí khác nhau, có một vài ảnh chứa chi tiết gây nhiễu.\n",
        "- Đồng thời lấy thêm một vài ảnh từ webcam của máy khác, điện thoại để tăng tính đa dạng cho dữ liệu,\n",
        "- Folder data: [Link data](https://drive.google.com/drive/folders/1Q5iE--fdPPzTenfNKVrglsB2tDCgWnVv?usp=sharing)"
      ]
    },
    {
      "cell_type": "code",
      "metadata": {
        "id": "F_3u0p-j31JG"
      },
      "source": [
        "from IPython.display import Image\n",
        "for i in range(50):\n",
        "  try:\n",
        "    path_file = os.path.join(dir_baitap, 'photo' + str(i) + '.jpg')\n",
        "    filename = take_photo(path_file)\n",
        "    #print('Saved to {}'.format(filename))\n",
        "  except Exception as err:\n",
        "    print(str(err))"
      ],
      "execution_count": null,
      "outputs": []
    },
    {
      "cell_type": "markdown",
      "metadata": {
        "id": "pVxfQoU03VlN"
      },
      "source": [
        "- Thực hiện việc đánh nhãn cho các hình đã được chụp ở trên để kiểm tra với việc dự đoán của máy"
      ]
    },
    {
      "cell_type": "code",
      "metadata": {
        "id": "06E2MnzkPMeN"
      },
      "source": [
        "labels = [1, 2, 3, 4, 5, 6, 7, 8, 9, 0, 2, 3, 7, 1, 4, 5, 0, 9, 2, 3, \n",
        "          4, 9, 1, 4, 6, 0, 0, 4, 2, 5, 6, 9, 1, 0, 7, 2, 3, 4, 8, 8, \n",
        "          9, 2, 2, 9, 8, 8, 4, 3, 2, 1, 4, 2, 5, 4, 6, 1, 0, 7, 4, 3, \n",
        "          8, 9, 2, 2, 2, 1, 7, 9, 0, 3, 3, 1, 4, 2, 1, 2, 1, 7, 8, 9, \n",
        "          3, 1, 0, 5, 4, 2, 5, 7, 5, 4, 2, 1, 7, 1, 5, 2, 3, 3, 1, 2]"
      ],
      "execution_count": null,
      "outputs": []
    },
    {
      "cell_type": "markdown",
      "metadata": {
        "id": "rHZCYbBY5JC-"
      },
      "source": [
        "- Nhận diện các ảnh đã chụp lưu kết quả vào predicted"
      ]
    },
    {
      "cell_type": "code",
      "metadata": {
        "id": "2fh20LKePeqa"
      },
      "source": [
        "predicted = []\n",
        "image = []\n",
        "for i in range(100):\n",
        "  path_file = os.path.join(dir_baitap, \"photo\" + str(i) + \".jpg\")\n",
        "  image.append(cv.imread(path_file, 0))\n",
        "  image[i] = detectDigit(ChuanHoaMau(image[i]))\n",
        "  image[i] = cv.resize(image[i], (8, 8)) // 16\n",
        "  predicted.append(*clf.predict(image[i].reshape(1, 64)))"
      ],
      "execution_count": null,
      "outputs": []
    },
    {
      "cell_type": "markdown",
      "metadata": {
        "id": "lZuwwbyoKNMK"
      },
      "source": [
        "- So sánh kết quả thu được với labels"
      ]
    },
    {
      "cell_type": "code",
      "metadata": {
        "colab": {
          "base_uri": "https://localhost:8080/"
        },
        "id": "zpNJS-XtU94i",
        "outputId": "5a9e4110-d405-430d-dc99-7838955e99c5"
      },
      "source": [
        "print( str(accuracy_score(labels,predicted)*100) + \"%\")"
      ],
      "execution_count": 18,
      "outputs": [
        {
          "output_type": "stream",
          "text": [
            "42.0%\n"
          ],
          "name": "stdout"
        }
      ]
    },
    {
      "cell_type": "markdown",
      "metadata": {
        "id": "87hZLY6tlGk7"
      },
      "source": [
        "# Q & A "
      ]
    },
    {
      "cell_type": "markdown",
      "metadata": {
        "id": "vJQXc2dildQ9"
      },
      "source": [
        "**Yêu cầu phân tích: Thông qua thực nghiệm chạy thử nhiều lần trả lời các câu hỏi sau**\n",
        "\n",
        "\n",
        "\n",
        "* Kết quả chạy thực tế với webcam của laptop và giấy viết tay của các bạn có tốt không?\n",
        "\n",
        "> => Kết quả thu được có độ chính xác khá thấp\n",
        "\n",
        "* Dựa vào đâu để kết luận là tốt hay không?\n",
        "\n",
        "> => Dựa vào accuracy thu được khi nhận diện các hình ảnh chụp được. Tỉ lệ nhận diện đúng chữ số khá thấp - 42%\n",
        "\n",
        "* Nếu không tốt thì lý do tại sao?\n",
        "\n",
        "> => Do nhiều yếu tố dẫn đến kết quả như vậy:\n",
        "  * Chất lượng của webcam\n",
        "  * Chữ số trong bức ảnh chưa được chuẩn\n",
        "  * Dataset dùng để train còn khá đẹp\n",
        "  * Phần preprocessing còn nhiều hạn chế để lọc nhiễu và ảnh sau khi resize về 8x8 chưa chuẩn\n",
        "\n",
        "* Nếu tốt thì tiếp theo có thể dùng model digits recognition này vào các bài toán phức tạp hơn như nhận dạng biển số nhà không?\n",
        "\n",
        "> => Theo nhóm em nghĩ, nếu mô hình trên chạy kết quả thực nghiệm có kết quả khả quan thì có thể ứng dụng được vào các bài toán phức tạp hơn như nhận dạng biển số nhà. Do khi máy đã có thể nhận diện được chính xác chữ viết tay thì có thể dêx dàng nhận diện được các chữ số được in lên biển số nhà vì những chữ số ấy có form chuẩn hơn chữ viết tay.\n"
      ]
    }
  ]
}