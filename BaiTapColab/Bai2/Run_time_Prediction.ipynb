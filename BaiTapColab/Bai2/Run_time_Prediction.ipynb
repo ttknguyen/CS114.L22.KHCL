{
  "nbformat": 4,
  "nbformat_minor": 0,
  "metadata": {
    "colab": {
      "name": "Run-time_Prediction.ipynb",
      "provenance": [],
      "collapsed_sections": [
        "TckcYyEupM7z",
        "xmJep7E_pVLv",
        "FRGWiDMupdkj"
      ],
      "toc_visible": true,
      "include_colab_link": true
    },
    "kernelspec": {
      "name": "python3",
      "display_name": "Python 3"
    },
    "language_info": {
      "name": "python"
    }
  },
  "cells": [
    {
      "cell_type": "markdown",
      "metadata": {
        "id": "view-in-github",
        "colab_type": "text"
      },
      "source": [
        "<a href=\"https://colab.research.google.com/github/ttknguyen/CS114.L22.KHCL/blob/master/BaiTapColab/Bai2/Run_time_Prediction.ipynb\" target=\"_parent\"><img src=\"https://colab.research.google.com/assets/colab-badge.svg\" alt=\"Open In Colab\"/></a>"
      ]
    },
    {
      "cell_type": "markdown",
      "metadata": {
        "id": "mtgfv77GuKUq"
      },
      "source": [
        "# **ASSIGNMENT COLAB 2: Dự đoán thời gian chạy của chương trình**"
      ]
    },
    {
      "cell_type": "markdown",
      "metadata": {
        "id": "jxKJE5ZKpv-m"
      },
      "source": [
        "**Thành viên nhóm:** \n",
        "  *   Thái Trần Khánh Nguyên - 19520188\n",
        "  *   Nguyễn Khánh Như - 19520209\n",
        "  *   Đoàn Nguyễn Nhật Quang - 19520235"
      ]
    },
    {
      "cell_type": "markdown",
      "metadata": {
        "id": "_aqnTf_iv7Et"
      },
      "source": [
        "**Link tham khảo:**\n",
        "- https://scikit-learn.org/stable/modules/generated/sklearn.linear_model.LinearRegression.html\n",
        "- https://scikit-learn.org/stable/auto_examples/linear_model/plot_ols.html"
      ]
    },
    {
      "cell_type": "markdown",
      "metadata": {
        "id": "TckcYyEupM7z"
      },
      "source": [
        "# **Import Libraries & Read Data Set**"
      ]
    },
    {
      "cell_type": "code",
      "metadata": {
        "id": "8hnXMVpdmTE9"
      },
      "source": [
        "import pandas as pd\n",
        "import numpy as np\n",
        "import sklearn\n",
        "from sklearn.linear_model import LinearRegression\n",
        "import matplotlib.pyplot as plt\n",
        "from google.colab import drive\n",
        "import os\n",
        "import math"
      ],
      "execution_count": null,
      "outputs": []
    },
    {
      "cell_type": "code",
      "metadata": {
        "id": "S3EcoVMA4rvR",
        "colab": {
          "base_uri": "https://localhost:8080/"
        },
        "outputId": "351914f5-d08f-4cd9-99ba-91622cb3dba9"
      },
      "source": [
        "colnames = ['Size', 'Time']\n",
        "\n",
        "dataTrain = pd.read_csv(\"https://cs.uit.edu.vn/data2.txt\", names = colnames)\n",
        "dataTest = pd.read_csv(\"https://cs.uit.edu.vn/data3.txt\", names = colnames)\n",
        "\n",
        "print('\\033[1m' + '     Training Data' + '\\033[0m')\n",
        "print(dataTrain)\n",
        "\n",
        "print('\\033[1m' + '       Test Data' + '\\033[0m')\n",
        "print(dataTest)"
      ],
      "execution_count": null,
      "outputs": [
        {
          "output_type": "stream",
          "text": [
            "\u001b[1m     Training Data\u001b[0m\n",
            "          Size      Time\n",
            "0      6083695  0.521842\n",
            "1      1954367  0.152648\n",
            "2      3734185  0.298548\n",
            "3      5839301  0.460480\n",
            "4      6343427  0.527977\n",
            "...        ...       ...\n",
            "71110  4472112  0.350379\n",
            "71111  5471895  0.429955\n",
            "71112  9837364  0.801394\n",
            "71113  9466593  0.776407\n",
            "71114  4080801  0.314468\n",
            "\n",
            "[71115 rows x 2 columns]\n",
            "\u001b[1m       Test Data\u001b[0m\n",
            "           Size     Time\n",
            "0      37837612  4.12166\n",
            "1      37395246  3.92089\n",
            "2      36610827  3.21540\n",
            "3      29555651  2.54506\n",
            "4      25928216  2.21831\n",
            "...         ...      ...\n",
            "10585  26872494  2.35117\n",
            "10586  20753811  1.79155\n",
            "10587  33520323  2.90918\n",
            "10588  21243264  1.80292\n",
            "10589  21380484  1.82795\n",
            "\n",
            "[10590 rows x 2 columns]\n"
          ],
          "name": "stdout"
        }
      ]
    },
    {
      "cell_type": "code",
      "metadata": {
        "id": "VOYeqZtI8b-R"
      },
      "source": [
        "x_train = np.array(dataTrain['Size'])\n",
        "x_train = x_train.reshape(-1, 1)\n",
        "y_train = np.array(dataTrain['Time']).reshape(-1, 1)\n",
        "\n",
        "x_test = np.array(dataTest['Size']).reshape(-1, 1)\n",
        "y_test = np.array(dataTest['Time']).reshape(-1, 1)"
      ],
      "execution_count": null,
      "outputs": []
    },
    {
      "cell_type": "markdown",
      "metadata": {
        "id": "xmJep7E_pVLv"
      },
      "source": [
        "# **Visualization**"
      ]
    },
    {
      "cell_type": "code",
      "metadata": {
        "colab": {
          "base_uri": "https://localhost:8080/"
        },
        "id": "4TNoxzxGuLPP",
        "outputId": "94fcf19b-7d5d-42f6-b679-c59062df0931"
      },
      "source": [
        "# Mô hình hóa dữ liệu\n",
        "plt.figure(figsize = (30, 20))\n",
        "\n",
        "#Visualize Data2 \n",
        "plt.subplot(3, 6, 1)\n",
        "plt.plot(y_train, x_train, '.')\n",
        "plt.xlabel('Time')\n",
        "plt.ylabel('Size')\n",
        "plt.title('Visualize Data2')\n",
        "\n",
        "#Visualize Data3\n",
        "plt.subplot(3, 6, 2)\n",
        "plt.plot(y_test, x_test, '.')\n",
        "plt.xlabel('Time')\n",
        "plt.ylabel('Size')\n",
        "plt.title('Visualize Data3')\n",
        "\n",
        "#Visualize Data4\n",
        "plt.subplot(3, 6, 3)\n",
        "plt.plot(y_train, x_train, '.')\n",
        "plt.plot(y_test, x_test, '.')\n",
        "plt.xlabel('Time')\n",
        "plt.ylabel('Size')\n",
        "plt.title('Visualize Data2 + Data3')\n",
        "\n",
        "plt.show()"
      ],
      "execution_count": null,
      "outputs": [
        {
          "output_type": "display_data",
          "data": {
            "image/png": "[encoded data removed]",
            "text/plain": [
              "<Figure size 2160x1440 with 3 Axes>"
            ]
          },
          "metadata": {
            "tags": [],
            "needs_background": "light"
          }
        }
      ]
    },
    {
      "cell_type": "markdown",
      "metadata": {
        "id": "FRGWiDMupdkj"
      },
      "source": [
        "# **Train Model**"
      ]
    },
    {
      "cell_type": "markdown",
      "metadata": {
        "id": "mkCzODBgLgz8"
      },
      "source": [
        "## **Linear Regression**"
      ]
    },
    {
      "cell_type": "code",
      "metadata": {
        "id": "9B6TqwUF_dLi",
        "colab": {
          "base_uri": "https://localhost:8080/"
        },
        "outputId": "f9954268-eb66-41e9-d869-50867e827c22"
      },
      "source": [
        "rt = LinearRegression().fit(x_train, y_train)\n",
        "rt.intercept_ , rt.coef_"
      ],
      "execution_count": null,
      "outputs": [
        {
          "output_type": "execute_result",
          "data": {
            "text/plain": [
              "(array([-0.01589553]), array([[8.45569856e-08]]))"
            ]
          },
          "metadata": {
            "tags": []
          },
          "execution_count": 10
        }
      ]
    },
    {
      "cell_type": "code",
      "metadata": {
        "colab": {
          "base_uri": "https://localhost:8080/"
        },
        "id": "Tu4TEO5_2-AA",
        "outputId": "337eea62-3fcd-4705-e0af-bf965d8cd7ed"
      },
      "source": [
        "y_pred = rt.predict(x_train)\n",
        "mse = sklearn.metrics.mean_squared_error(y_train, y_pred)\n",
        "print(\"MSE of Data Train:\", mse)"
      ],
      "execution_count": null,
      "outputs": [
        {
          "output_type": "stream",
          "text": [
            "MSE of Data Train: 0.00014337728721748835\n"
          ],
          "name": "stdout"
        }
      ]
    },
    {
      "cell_type": "code",
      "metadata": {
        "colab": {
          "base_uri": "https://localhost:8080/"
        },
        "id": "wwGRJWBL9qy3",
        "outputId": "c7f25394-e047-4192-f5ab-c013a20346fe"
      },
      "source": [
        "# Tính trung bình cộng thời gian chạy của Data Test\n",
        "print(\"Average of y_test:\", np.average(y_test))\n",
        "\n",
        "# Mean Square Error of Data Test \n",
        "y_pred = rt.predict(x_test)\n",
        "mse = sklearn.metrics.mean_squared_error(y_test, y_pred)\n",
        "print(\"MSE of Data Test:\", mse)\n",
        "\n",
        "error = math.sqrt(mse) / np.average(y_test)\n",
        "print(\"Error(%):\", error*100)"
      ],
      "execution_count": null,
      "outputs": [
        {
          "output_type": "stream",
          "text": [
            "Average of y_test: 2.642811968838527\n",
            "MSE of Data Test: 0.020664949397549082\n",
            "Error(%): 5.439398887357004\n"
          ],
          "name": "stdout"
        }
      ]
    },
    {
      "cell_type": "code",
      "metadata": {
        "colab": {
          "base_uri": "https://localhost:8080/"
        },
        "id": "1g5M5cFd9zRW",
        "outputId": "b32e7bfc-12f4-42d2-f3bb-92ce2a88b73a"
      },
      "source": [
        "# Visualize \n",
        "plt.figure(figsize = (40, 20))\n",
        "\n",
        "plt.subplot(3, 6, 1)\n",
        "plt.plot(y_train, x_train, '.')\n",
        "plt.plot(rt.predict(x_train), x_train, label='Linear Regression', color = 'Red', linewidth = '5') \n",
        "plt.xlabel('Time')\n",
        "plt.ylabel('Size')\n",
        "plt.title('Visualize Linear Regression Model with Data2')\n",
        "plt.legend()\n",
        "\n",
        "plt.subplot(3, 6, 2)\n",
        "plt.plot(y_test, x_test, '.')\n",
        "plt.plot(y_pred, x_test, label='Linear Regression', color = 'Red', linewidth = '5') \n",
        "plt.xlabel('Time')\n",
        "plt.ylabel('Size')\n",
        "plt.title('Visualize Linear Regression Model with Data3')\n",
        "plt.legend()\n",
        "\n",
        "plt.show()"
      ],
      "execution_count": null,
      "outputs": [
        {
          "output_type": "display_data",
          "data": {
            "image/png": "[encoded data removed]",
            "text/plain": [
              "<Figure size 2880x1440 with 2 Axes>"
            ]
          },
          "metadata": {
            "tags": [],
            "needs_background": "light"
          }
        }
      ]
    },
    {
      "cell_type": "markdown",
      "metadata": {
        "id": "xXtpf1a08foJ"
      },
      "source": [
        "## **Cải thiện model Linear Regression (Multivariate Regression)**"
      ]
    },
    {
      "cell_type": "code",
      "metadata": {
        "colab": {
          "base_uri": "https://localhost:8080/"
        },
        "id": "5EFXcAB-HO-O",
        "outputId": "dfe22dca-81b0-4c03-b601-da9d2f1609a0"
      },
      "source": [
        "multiX = x_train.copy()\n",
        "multiX = np.hstack((multiX, x_train**2))\n",
        "multiX = np.hstack((multiX, x_train*np.log(x_train)))\n",
        "multiX = np.hstack((multiX, np.log(x_train)))\n",
        "multiX"
      ],
      "execution_count": null,
      "outputs": [
        {
          "output_type": "execute_result",
          "data": {
            "text/plain": [
              "array([[6.08369500e+06, 3.70113449e+13, 9.50341467e+07, 1.56211228e+01],\n",
              "       [1.95436700e+06, 3.81955037e+12, 2.83101335e+07, 1.44855769e+01],\n",
              "       [3.73418500e+06, 1.39441376e+13, 5.65095715e+07, 1.51330401e+01],\n",
              "       ...,\n",
              "       [9.83736400e+06, 9.67737305e+13, 1.58398268e+08, 1.61016983e+01],\n",
              "       [9.46659300e+06, 8.96163830e+13, 1.52064531e+08, 1.60632796e+01],\n",
              "       [4.08080100e+06, 1.66529368e+13, 6.21171524e+07, 1.52218039e+01]])"
            ]
          },
          "metadata": {
            "tags": []
          },
          "execution_count": 14
        }
      ]
    },
    {
      "cell_type": "code",
      "metadata": {
        "colab": {
          "base_uri": "https://localhost:8080/"
        },
        "id": "L1vEjbQpKASE",
        "outputId": "28ef1698-49ad-4c48-a8a3-5b8831dbafd5"
      },
      "source": [
        "multiX_test = x_test.copy()\n",
        "multiX_test = np.hstack((multiX_test, x_test**2))\n",
        "multiX_test = np.hstack((multiX_test, x_test*np.log(x_test)))\n",
        "multiX_test = np.hstack((multiX_test, np.log(x_test)))\n",
        "multiX_test"
      ],
      "execution_count": null,
      "outputs": [
        {
          "output_type": "execute_result",
          "data": {
            "text/plain": [
              "array([[3.78376120e+07, 1.43168488e+15, 6.60221461e+08, 1.74488142e+01],\n",
              "       [3.73952460e+07, 1.39840442e+15, 6.52062929e+08, 1.74370541e+01],\n",
              "       [3.66108270e+07, 1.34035265e+15, 6.37608839e+08, 1.74158546e+01],\n",
              "       ...,\n",
              "       [3.35203230e+07, 1.12361205e+15, 5.80828843e+08, 1.73276625e+01],\n",
              "       [2.12432640e+07, 4.51276265e+14, 3.58406800e+08, 1.68715504e+01],\n",
              "       [2.13804840e+07, 4.57125096e+14, 3.60859576e+08, 1.68779891e+01]])"
            ]
          },
          "metadata": {
            "tags": []
          },
          "execution_count": 15
        }
      ]
    },
    {
      "cell_type": "code",
      "metadata": {
        "colab": {
          "base_uri": "https://localhost:8080/"
        },
        "id": "W5Sfbp0fKuNz",
        "outputId": "6b63b462-0952-4240-8235-bd36986439ae"
      },
      "source": [
        "rt1 = LinearRegression().fit(multiX, y_train)\n",
        "rt1.intercept_ , rt1.coef_"
      ],
      "execution_count": null,
      "outputs": [
        {
          "output_type": "execute_result",
          "data": {
            "text/plain": [
              "(array([-2.56910181e-05]),\n",
              " array([[ 5.04822399e-09, -8.53187792e-18,  4.88768713e-09,\n",
              "          1.89058084e-05]]))"
            ]
          },
          "metadata": {
            "tags": []
          },
          "execution_count": 16
        }
      ]
    },
    {
      "cell_type": "code",
      "metadata": {
        "colab": {
          "base_uri": "https://localhost:8080/"
        },
        "id": "8UY4RahHMOKW",
        "outputId": "7e9d0f52-2846-40e2-bfe8-052116c1528c"
      },
      "source": [
        "y_pred1 = rt1.predict(multiX)\n",
        "mse = sklearn.metrics.mean_squared_error(y_train, y_pred1)\n",
        "print(\"MSE of Data Train:\", mse)"
      ],
      "execution_count": null,
      "outputs": [
        {
          "output_type": "stream",
          "text": [
            "MSE of Data Train: 0.00012190225045315814\n"
          ],
          "name": "stdout"
        }
      ]
    },
    {
      "cell_type": "code",
      "metadata": {
        "colab": {
          "base_uri": "https://localhost:8080/"
        },
        "id": "uzwiPcjdMYFx",
        "outputId": "c84456fe-ab3e-482d-ab03-0c051874ce5e"
      },
      "source": [
        "# Tính trung bình cộng thời gian chạy của Data Test\n",
        "print(\"Average of y_test:\", np.average(y_test))\n",
        "\n",
        "# Mean Square Error of Data Test \n",
        "y_pred1 = rt1.predict(multiX_test)\n",
        "mse = sklearn.metrics.mean_squared_error(y_test, y_pred1)\n",
        "print(\"MSE of Data Test:\", mse)\n",
        "\n",
        "error = math.sqrt(mse) / np.average(y_test)\n",
        "print(\"Error(%):\", error*100)"
      ],
      "execution_count": null,
      "outputs": [
        {
          "output_type": "stream",
          "text": [
            "Average of y_test: 2.642811968838527\n",
            "MSE of Data Test: 0.004181195754594616\n",
            "Error(%): 2.446718385312817\n"
          ],
          "name": "stdout"
        }
      ]
    },
    {
      "cell_type": "markdown",
      "metadata": {
        "id": "6SlO7CmbKM0s"
      },
      "source": [
        "**Kết quả:**\n",
        "> **Linear Regression:**\n",
        "\n",
        "- Average of y_test: 2.642811968838527\n",
        "- MSE of Data Test: 0.020664949397549082\n",
        "- Error(%): 5.439398887357004 ≃ 5%\n",
        "\n",
        "> **Multivariate Regression:**\n",
        "\n",
        "- Average of y_test: 2.642811968838527\n",
        "- MSE of Data Test: 0.004181195754594616\n",
        "- Error(%): 2.446718385312817 ≃ 2.45%"
      ]
    },
    {
      "cell_type": "markdown",
      "metadata": {
        "id": "REYj7oNZUFTs"
      },
      "source": [
        "**Nhận xét:**\n",
        "> **Linear Regression**\n",
        "\n",
        "- Ở bài toán này, với độ lệch là 5% thì model ở trên là **chưa đủ tốt**.\n",
        "- Bởi vì chúng ta phải train trên 1 data set có input mang các giá trị nhỏ nhưng phải dự đoán trên data set có input lớn.\n",
        "- Khi kích thước input lớn hơn thì giá trị lệch sẽ lớn hơn dẫn đến sai số cũng lớn hơn.\n",
        "\n",
        "> **Multivariate Regression (MR)**\n",
        "\n",
        "- Độ lệch giảm còn 2.45%.\n",
        "- Khi sử dụng MR, ta  tăng chiều dữ liệu bằng cách thêm các giá trị x^2, xlog(x), log(x) thì thu được kết quả tốt hơn so với LR (Độ lệch giảm gần 2 lần so với độ lệch của LR)\n",
        "\n",
        "**Kết luận:**\n",
        "\n",
        "Trong bài toán Linear Regression, để cải thiện model thì ta có thể tăng chiều dữ liệu lên giúp cho bài toán được dự đoán, giải quyết một cách chính xác hơn. "
      ]
    }
  ]
}