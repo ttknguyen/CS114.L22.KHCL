{
  "nbformat": 4,
  "nbformat_minor": 0,
  "metadata": {
    "colab": {
      "name": "sarcasmClassification.ipynb",
      "provenance": [],
      "collapsed_sections": [
        "54KRWoMs6ue4",
        "73ULEs-Q7VKL",
        "D5N5eUvNpYOU",
        "8dx_4A0tY092",
        "PCOywXrSaHZk",
        "Hk_ilm8jWqf4",
        "VnUpGWBSW7JA",
        "WdpBUuplr4Jx",
        "kh6beXlAufrf"
      ],
      "toc_visible": true,
      "authorship_tag": "ABX9TyNVohHZaVIisNprjqsAs7aY",
      "include_colab_link": true
    },
    "kernelspec": {
      "name": "python3",
      "display_name": "Python 3"
    },
    "language_info": {
      "name": "python"
    }
  },
  "cells": [
    {
      "cell_type": "markdown",
      "metadata": {
        "id": "view-in-github",
        "colab_type": "text"
      },
      "source": [
        "<a href=\"https://colab.research.google.com/github/ttknguyen/CS114.L22.KHCL/blob/master/BaiTapColab/Bai4sarcasmClassification.ipynb\" target=\"_parent\"><img src=\"https://colab.research.google.com/assets/colab-badge.svg\" alt=\"Open In Colab\"/></a>"
      ]
    },
    {
      "cell_type": "markdown",
      "metadata": {
        "id": "_sgdlh9Z6UkR"
      },
      "source": [
        "<h1 align=\"center\"><b>CS114.L21 - MÁY HỌC - MACHINE LEARNING</b></h1>\n",
        "<h1 align=\"center\"><b>BÀI TẬP COLAB SỐ 04: Crawl Data</b></h1>\n",
        "\n",
        "**Nhóm thực hiệ**n:\n",
        "- Thái Trần Khánh Nguyên - 19520188\n",
        "- Nguyễn Khánh Như - 19520209\n",
        "- Đoàn Nguyễn Nhật Quang - 19520235"
      ]
    },
    {
      "cell_type": "markdown",
      "metadata": {
        "id": "nbCIPAJ16UbG"
      },
      "source": [
        ""
      ]
    },
    {
      "cell_type": "markdown",
      "metadata": {
        "id": "54KRWoMs6ue4"
      },
      "source": [
        "# Import Necessary Libraries"
      ]
    },
    {
      "cell_type": "code",
      "metadata": {
        "id": "y3ae3BF6OHub"
      },
      "source": [
        "import numpy as np\n",
        "import pandas as pd\n",
        "import matplotlib.pyplot as plt\n",
        "import os, glob\n",
        "import json\n",
        "import nltk\n",
        "from google.colab import drive\n",
        "from sklearn.metrics import classification_report,confusion_matrix,accuracy_score\n",
        "from sklearn.model_selection import train_test_split\n",
        "import keras\n",
        "from keras.models import Sequential\n",
        "from keras.layers import Dense,Embedding,LSTM,Dropout,Bidirectional,GRU\n",
        "import gensim\n",
        "from gensim.models import Word2Vec\n",
        "from keras.preprocessing import text, sequence"
      ],
      "execution_count": 38,
      "outputs": []
    },
    {
      "cell_type": "markdown",
      "metadata": {
        "id": "73ULEs-Q7VKL"
      },
      "source": [
        "# Loading Dataset from Drive"
      ]
    },
    {
      "cell_type": "code",
      "metadata": {
        "colab": {
          "base_uri": "https://localhost:8080/"
        },
        "id": "M1bPrNvw7UZq",
        "outputId": "be435898-f376-4615-e7f2-504e0634e73d"
      },
      "source": [
        "drive.mount('/gdrive')\n",
        "path = '/gdrive/MyDrive/MachineLearning/CS114.L22.KHCL/DataSetColab4/'"
      ],
      "execution_count": 39,
      "outputs": [
        {
          "output_type": "stream",
          "text": [
            "Drive already mounted at /gdrive; to attempt to forcibly remount, call drive.mount(\"/gdrive\", force_remount=True).\n"
          ],
          "name": "stdout"
        }
      ]
    },
    {
      "cell_type": "code",
      "metadata": {
        "id": "-ogrM3hckKXD"
      },
      "source": [
        "listfile = ['BabylonBee', 'Chaser', 'NBCNews', 'TheBeaverton', 'TheGuardian', 'TheSun']"
      ],
      "execution_count": 40,
      "outputs": []
    },
    {
      "cell_type": "code",
      "metadata": {
        "id": "90z_oOoFYhqD"
      },
      "source": [
        "def loadData():\n",
        "  dt = []\n",
        "  for fileName in listfile:\n",
        "    tweets_data = []\n",
        "    tweet_file = open(path + fileName + '.json', \"rb\")\n",
        "    for line in tweet_file:\n",
        "      try:\n",
        "        tweet = json.loads(line)\n",
        "        tweets_data.append(tweet)\n",
        "      except:\n",
        "        continue   \n",
        "    tweet_file.close()\n",
        "    tweet_info = pd.DataFrame()\n",
        "    tweet_info['is_sarcastic'] = list(map(lambda tweet: tweet['is_sarcastic'], tweets_data))\n",
        "    tweet_info['headline'] = list(map(lambda tweet: tweet['headline'], tweets_data))\n",
        "    tweet_info['article_link'] = list(map(lambda tweet: tweet['article_link'], tweets_data))\n",
        "    tweet_info.head(10)\n",
        "    dt.append(tweet_info)\n",
        "  return pd.concat([dt[0],dt[1],dt[2],dt[3],dt[4],dt[5]], ignore_index=True)\n",
        "\n",
        "dataset = loadData()"
      ],
      "execution_count": 41,
      "outputs": []
    },
    {
      "cell_type": "code",
      "metadata": {
        "colab": {
          "base_uri": "https://localhost:8080/",
          "height": 408
        },
        "id": "thYgalpjnU3N",
        "outputId": "7fd92899-a301-4f3c-989e-ef1b3a60ec9f"
      },
      "source": [
        "dataset"
      ],
      "execution_count": 42,
      "outputs": [
        {
          "output_type": "execute_result",
          "data": {
            "text/html": [
              "<div>\n",
              "<style scoped>\n",
              "    .dataframe tbody tr th:only-of-type {\n",
              "        vertical-align: middle;\n",
              "    }\n",
              "\n",
              "    .dataframe tbody tr th {\n",
              "        vertical-align: top;\n",
              "    }\n",
              "\n",
              "    .dataframe thead th {\n",
              "        text-align: right;\n",
              "    }\n",
              "</style>\n",
              "<table border=\"1\" class=\"dataframe\">\n",
              "  <thead>\n",
              "    <tr style=\"text-align: right;\">\n",
              "      <th></th>\n",
              "      <th>is_sarcastic</th>\n",
              "      <th>headline</th>\n",
              "      <th>article_link</th>\n",
              "    </tr>\n",
              "  </thead>\n",
              "  <tbody>\n",
              "    <tr>\n",
              "      <th>0</th>\n",
              "      <td>1</td>\n",
              "      <td>Toobin Reinstated In Touching Interview: I Got...</td>\n",
              "      <td>https://babylonbee.com//news/toobin-gets-off-easy</td>\n",
              "    </tr>\n",
              "    <tr>\n",
              "      <th>1</th>\n",
              "      <td>1</td>\n",
              "      <td>Joel Osteen: Attacks Against Me Are Attacks Ag...</td>\n",
              "      <td>https://babylonbee.com//news/osteen-an-attack-...</td>\n",
              "    </tr>\n",
              "    <tr>\n",
              "      <th>2</th>\n",
              "      <td>1</td>\n",
              "      <td>CNN Forced To Reset Days Since Trump Was Prove...</td>\n",
              "      <td>https://babylonbee.com//news/cnn-forced-to-res...</td>\n",
              "    </tr>\n",
              "    <tr>\n",
              "      <th>3</th>\n",
              "      <td>1</td>\n",
              "      <td>Biden: If You Dont Use The N-Word, You Aint My...</td>\n",
              "      <td>https://babylonbee.com//news/if-you-dont-use-t...</td>\n",
              "    </tr>\n",
              "    <tr>\n",
              "      <th>4</th>\n",
              "      <td>1</td>\n",
              "      <td>Pelosi Asks Omar To Clarify Ambiguous Statemen...</td>\n",
              "      <td>https://babylonbee.com//news/pelosi-asks-for-c...</td>\n",
              "    </tr>\n",
              "    <tr>\n",
              "      <th>...</th>\n",
              "      <td>...</td>\n",
              "      <td>...</td>\n",
              "      <td>...</td>\n",
              "    </tr>\n",
              "    <tr>\n",
              "      <th>94867</th>\n",
              "      <td>0</td>\n",
              "      <td>Ed Sheeran named baby Lyra after main characte...</td>\n",
              "      <td>https://www.thesun.co.uk/tvandshowbiz/12550137...</td>\n",
              "    </tr>\n",
              "    <tr>\n",
              "      <th>94868</th>\n",
              "      <td>0</td>\n",
              "      <td>Thousands to get soups &amp; shakes diet on NHS pr...</td>\n",
              "      <td>https://www.thesun.co.uk/news/12544929/thousan...</td>\n",
              "    </tr>\n",
              "    <tr>\n",
              "      <th>94869</th>\n",
              "      <td>0</td>\n",
              "      <td>Fuel duty may be hiked by 5p to pay for Covid ...</td>\n",
              "      <td>https://www.thesun.co.uk/news/12547092/fuel-du...</td>\n",
              "    </tr>\n",
              "    <tr>\n",
              "      <th>94870</th>\n",
              "      <td>0</td>\n",
              "      <td>Three Brits detained after mum, 60, killed wit...</td>\n",
              "      <td>https://www.thesun.co.uk/news/12542321/brits-c...</td>\n",
              "    </tr>\n",
              "    <tr>\n",
              "      <th>94871</th>\n",
              "      <td>0</td>\n",
              "      <td>Millions of kids finally back to school as pic...</td>\n",
              "      <td>https://www.thesun.co.uk/news/politics/1254903...</td>\n",
              "    </tr>\n",
              "  </tbody>\n",
              "</table>\n",
              "<p>94872 rows × 3 columns</p>\n",
              "</div>"
            ],
            "text/plain": [
              "       is_sarcastic  ...                                       article_link\n",
              "0                 1  ...  https://babylonbee.com//news/toobin-gets-off-easy\n",
              "1                 1  ...  https://babylonbee.com//news/osteen-an-attack-...\n",
              "2                 1  ...  https://babylonbee.com//news/cnn-forced-to-res...\n",
              "3                 1  ...  https://babylonbee.com//news/if-you-dont-use-t...\n",
              "4                 1  ...  https://babylonbee.com//news/pelosi-asks-for-c...\n",
              "...             ...  ...                                                ...\n",
              "94867             0  ...  https://www.thesun.co.uk/tvandshowbiz/12550137...\n",
              "94868             0  ...  https://www.thesun.co.uk/news/12544929/thousan...\n",
              "94869             0  ...  https://www.thesun.co.uk/news/12547092/fuel-du...\n",
              "94870             0  ...  https://www.thesun.co.uk/news/12542321/brits-c...\n",
              "94871             0  ...  https://www.thesun.co.uk/news/politics/1254903...\n",
              "\n",
              "[94872 rows x 3 columns]"
            ]
          },
          "metadata": {
            "tags": []
          },
          "execution_count": 42
        }
      ]
    },
    {
      "cell_type": "code",
      "metadata": {
        "colab": {
          "base_uri": "https://localhost:8080/"
        },
        "id": "iWrwmsSypQ4q",
        "outputId": "1583a972-9a5e-4fc3-b607-3cc2bfa4341f"
      },
      "source": [
        "dataset.info()"
      ],
      "execution_count": 43,
      "outputs": [
        {
          "output_type": "stream",
          "text": [
            "<class 'pandas.core.frame.DataFrame'>\n",
            "RangeIndex: 94872 entries, 0 to 94871\n",
            "Data columns (total 3 columns):\n",
            " #   Column        Non-Null Count  Dtype \n",
            "---  ------        --------------  ----- \n",
            " 0   is_sarcastic  94872 non-null  int64 \n",
            " 1   headline      94872 non-null  object\n",
            " 2   article_link  94872 non-null  object\n",
            "dtypes: int64(1), object(2)\n",
            "memory usage: 2.2+ MB\n"
          ],
          "name": "stdout"
        }
      ]
    },
    {
      "cell_type": "code",
      "metadata": {
        "colab": {
          "base_uri": "https://localhost:8080/",
          "height": 420
        },
        "id": "Gzs8PvlBH8ez",
        "outputId": "821a8b43-0e28-46ac-d5ab-b20e7f2d39da"
      },
      "source": [
        "dataset['is_sarcastic'].value_counts().plot(kind='barh', figsize=(8, 6))\n",
        "plt.xlabel(\"count\")\n",
        "plt.ylabel(\"is_sarcastic\")\n",
        "plt.title(\"is_sarcastic value counts\")"
      ],
      "execution_count": 68,
      "outputs": [
        {
          "output_type": "execute_result",
          "data": {
            "text/plain": [
              "Text(0.5, 1.0, 'is_sarcastic value counts')"
            ]
          },
          "metadata": {
            "tags": []
          },
          "execution_count": 68
        },
        {
          "output_type": "display_data",
          "data": {
            "image/png": "[encoded data removed]",
            "text/plain": [
              "<Figure size 576x432 with 1 Axes>"
            ]
          },
          "metadata": {
            "tags": [],
            "needs_background": "light"
          }
        }
      ]
    },
    {
      "cell_type": "markdown",
      "metadata": {
        "id": "bP2IGRkqIyQA"
      },
      "source": [
        "Sau khi kiểm tra số lượng thì nhóm em thấy số lượng các bài báo châm biếm còn qúa ít nên nhóm em sẽ gom thêm dữ liệu về dạng này."
      ]
    },
    {
      "cell_type": "code",
      "metadata": {
        "id": "tqb2mnrBJAUz"
      },
      "source": [
        "improve_data = pd.read_csv('https://raw.githubusercontent.com/vanviethieuanh/CS114.L21/main/News%20Scraping/19522054/news/data_1.csv')\n",
        "dataset = pd.concat([dataset, improve_data], ignore_index=True)"
      ],
      "execution_count": 72,
      "outputs": []
    },
    {
      "cell_type": "code",
      "metadata": {
        "colab": {
          "base_uri": "https://localhost:8080/",
          "height": 78
        },
        "id": "smIMMCavLeHc",
        "outputId": "66dcf379-0fa2-4b05-b186-5c5070a3d373"
      },
      "source": [
        "tweets_data = []\n",
        "tweet_file = open(path +  'dailymash.json', \"rb\")\n",
        "for line in tweet_file:\n",
        "  try:\n",
        "    tweet = json.loads(line)\n",
        "    tweets_data.append(tweet)\n",
        "  except:\n",
        "    continue   \n",
        "tweet_file.close()\n",
        "tweet_info = pd.DataFrame()\n",
        "tweet_info['is_sarcastic'] = list(map(lambda tweet: tweet['is_sarcastic'], tweets_data))\n",
        "tweet_info['headline'] = list(map(lambda tweet: tweet['headline'], tweets_data))\n",
        "tweet_info['article_link'] = list(map(lambda tweet: tweet['article_link'], tweets_data))\n",
        "tweet_info.head(10)"
      ],
      "execution_count": 100,
      "outputs": [
        {
          "output_type": "execute_result",
          "data": {
            "text/html": [
              "<div>\n",
              "<style scoped>\n",
              "    .dataframe tbody tr th:only-of-type {\n",
              "        vertical-align: middle;\n",
              "    }\n",
              "\n",
              "    .dataframe tbody tr th {\n",
              "        vertical-align: top;\n",
              "    }\n",
              "\n",
              "    .dataframe thead th {\n",
              "        text-align: right;\n",
              "    }\n",
              "</style>\n",
              "<table border=\"1\" class=\"dataframe\">\n",
              "  <thead>\n",
              "    <tr style=\"text-align: right;\">\n",
              "      <th></th>\n",
              "      <th>is_sarcastic</th>\n",
              "      <th>headline</th>\n",
              "      <th>article_link</th>\n",
              "    </tr>\n",
              "  </thead>\n",
              "  <tbody>\n",
              "    <tr>\n",
              "      <th>0</th>\n",
              "      <td>1</td>\n",
              "      <td>Drivers Who Shoot At People From Behind The Wh...</td>\n",
              "      <td>https://www.thedailymash.co.uk/news/society/dr...</td>\n",
              "    </tr>\n",
              "  </tbody>\n",
              "</table>\n",
              "</div>"
            ],
            "text/plain": [
              "   is_sarcastic  ...                                       article_link\n",
              "0             1  ...  https://www.thedailymash.co.uk/news/society/dr...\n",
              "\n",
              "[1 rows x 3 columns]"
            ]
          },
          "metadata": {
            "tags": []
          },
          "execution_count": 100
        }
      ]
    },
    {
      "cell_type": "code",
      "metadata": {
        "colab": {
          "base_uri": "https://localhost:8080/",
          "height": 420
        },
        "id": "20C7UyxqJQVv",
        "outputId": "582b52f4-d2ea-4655-e271-70429bab5162"
      },
      "source": [
        "dataset['is_sarcastic'].value_counts().plot(kind='barh', figsize=(8, 6))\n",
        "plt.xlabel(\"count\")\n",
        "plt.ylabel(\"is_sarcastic\")\n",
        "plt.title(\"is_sarcastic value counts\")"
      ],
      "execution_count": 73,
      "outputs": [
        {
          "output_type": "execute_result",
          "data": {
            "text/plain": [
              "Text(0.5, 1.0, 'is_sarcastic value counts')"
            ]
          },
          "metadata": {
            "tags": []
          },
          "execution_count": 73
        },
        {
          "output_type": "display_data",
          "data": {
            "image/png": "[encoded data removed]",
            "text/plain": [
              "<Figure size 576x432 with 1 Axes>"
            ]
          },
          "metadata": {
            "tags": [],
            "needs_background": "light"
          }
        }
      ]
    },
    {
      "cell_type": "markdown",
      "metadata": {
        "id": "D5N5eUvNpYOU"
      },
      "source": [
        "# Preprocessing Data"
      ]
    },
    {
      "cell_type": "markdown",
      "metadata": {
        "id": "8dx_4A0tY092"
      },
      "source": [
        "## Lấy những thông tin cần thiết"
      ]
    },
    {
      "cell_type": "markdown",
      "metadata": {
        "id": "T_dkSRWaZkcN"
      },
      "source": [
        "Trong bài toán này thì chúng ta sử dụng tiêu đề (headline) của bài báo để dự đoán xem đấy là bài báo châm biếm hay không. Do không cần thiết sử dụng nội dung của bài báo nên mục article_link không sử dụng và sẽ được lược bỏ."
      ]
    },
    {
      "cell_type": "code",
      "metadata": {
        "colab": {
          "base_uri": "https://localhost:8080/",
          "height": 0
        },
        "id": "qunM_1xUY4RC",
        "outputId": "c66c1ad3-145a-4bd4-9670-8ad46c7848e7"
      },
      "source": [
        "dataset = dataset[['is_sarcastic', 'headline']]\n",
        "dataset"
      ],
      "execution_count": 74,
      "outputs": [
        {
          "output_type": "execute_result",
          "data": {
            "text/html": [
              "<div>\n",
              "<style scoped>\n",
              "    .dataframe tbody tr th:only-of-type {\n",
              "        vertical-align: middle;\n",
              "    }\n",
              "\n",
              "    .dataframe tbody tr th {\n",
              "        vertical-align: top;\n",
              "    }\n",
              "\n",
              "    .dataframe thead th {\n",
              "        text-align: right;\n",
              "    }\n",
              "</style>\n",
              "<table border=\"1\" class=\"dataframe\">\n",
              "  <thead>\n",
              "    <tr style=\"text-align: right;\">\n",
              "      <th></th>\n",
              "      <th>is_sarcastic</th>\n",
              "      <th>headline</th>\n",
              "    </tr>\n",
              "  </thead>\n",
              "  <tbody>\n",
              "    <tr>\n",
              "      <th>0</th>\n",
              "      <td>1</td>\n",
              "      <td>toobin reinstated touching interview got easy</td>\n",
              "    </tr>\n",
              "    <tr>\n",
              "      <th>1</th>\n",
              "      <td>1</td>\n",
              "      <td>joel osteen attacks attacks bible</td>\n",
              "    </tr>\n",
              "    <tr>\n",
              "      <th>2</th>\n",
              "      <td>1</td>\n",
              "      <td>cnn forced reset days since trump proven right...</td>\n",
              "    </tr>\n",
              "    <tr>\n",
              "      <th>3</th>\n",
              "      <td>1</td>\n",
              "      <td>biden dont use nword aint son</td>\n",
              "    </tr>\n",
              "    <tr>\n",
              "      <th>4</th>\n",
              "      <td>1</td>\n",
              "      <td>pelosi asks omar clarify ambiguous statement k...</td>\n",
              "    </tr>\n",
              "    <tr>\n",
              "      <th>...</th>\n",
              "      <td>...</td>\n",
              "      <td>...</td>\n",
              "    </tr>\n",
              "    <tr>\n",
              "      <th>106699</th>\n",
              "      <td>1</td>\n",
              "      <td>Distressed Fyre Festival Attendees on Beach Sp...</td>\n",
              "    </tr>\n",
              "    <tr>\n",
              "      <th>106700</th>\n",
              "      <td>1</td>\n",
              "      <td>Ninth Day of Tour Marks 15th Straight Day of T...</td>\n",
              "    </tr>\n",
              "    <tr>\n",
              "      <th>106701</th>\n",
              "      <td>1</td>\n",
              "      <td>Sickest Hardcore Venue in Town Also Open at 11...</td>\n",
              "    </tr>\n",
              "    <tr>\n",
              "      <th>106702</th>\n",
              "      <td>1</td>\n",
              "      <td>Punk on ‘Shark Tank’ Wants $25 to Make Some Pins</td>\n",
              "    </tr>\n",
              "    <tr>\n",
              "      <th>106703</th>\n",
              "      <td>1</td>\n",
              "      <td>Progressive Family Unable to Finish Game of ‘G...</td>\n",
              "    </tr>\n",
              "  </tbody>\n",
              "</table>\n",
              "<p>106704 rows × 2 columns</p>\n",
              "</div>"
            ],
            "text/plain": [
              "        is_sarcastic                                           headline\n",
              "0                  1      toobin reinstated touching interview got easy\n",
              "1                  1                  joel osteen attacks attacks bible\n",
              "2                  1  cnn forced reset days since trump proven right...\n",
              "3                  1                      biden dont use nword aint son\n",
              "4                  1  pelosi asks omar clarify ambiguous statement k...\n",
              "...              ...                                                ...\n",
              "106699             1  Distressed Fyre Festival Attendees on Beach Sp...\n",
              "106700             1  Ninth Day of Tour Marks 15th Straight Day of T...\n",
              "106701             1  Sickest Hardcore Venue in Town Also Open at 11...\n",
              "106702             1   Punk on ‘Shark Tank’ Wants $25 to Make Some Pins\n",
              "106703             1  Progressive Family Unable to Finish Game of ‘G...\n",
              "\n",
              "[106704 rows x 2 columns]"
            ]
          },
          "metadata": {
            "tags": []
          },
          "execution_count": 74
        }
      ]
    },
    {
      "cell_type": "markdown",
      "metadata": {
        "id": "PCOywXrSaHZk"
      },
      "source": [
        "## Check NaN"
      ]
    },
    {
      "cell_type": "markdown",
      "metadata": {
        "id": "IdPEjh57aKYj"
      },
      "source": [
        "Kiểm tra lại xem dự liệu đang dùng có những tập bị thiếu hay không."
      ]
    },
    {
      "cell_type": "code",
      "metadata": {
        "colab": {
          "base_uri": "https://localhost:8080/"
        },
        "id": "QeiOdZv8aGhU",
        "outputId": "e5568c9a-4efe-4c02-bb1b-2fe2ee88972f"
      },
      "source": [
        "dataset.isna().sum()"
      ],
      "execution_count": 75,
      "outputs": [
        {
          "output_type": "execute_result",
          "data": {
            "text/plain": [
              "is_sarcastic    0\n",
              "headline        0\n",
              "dtype: int64"
            ]
          },
          "metadata": {
            "tags": []
          },
          "execution_count": 75
        }
      ]
    },
    {
      "cell_type": "markdown",
      "metadata": {
        "id": "ZSM3oOihakbf"
      },
      "source": [
        "Và may mắn là không có trường hợp nào bị thiếu cả nên nhóm em tiếp tục thực hiện các bước tiền xử lý tiếp theo trước khi cho vào model."
      ]
    },
    {
      "cell_type": "markdown",
      "metadata": {
        "id": "Hk_ilm8jWqf4"
      },
      "source": [
        "## Lowercasing"
      ]
    },
    {
      "cell_type": "markdown",
      "metadata": {
        "id": "xHDJa8U4X1XT"
      },
      "source": [
        "Chuyển các chữ in hoa thành chữ thường"
      ]
    },
    {
      "cell_type": "code",
      "metadata": {
        "colab": {
          "base_uri": "https://localhost:8080/"
        },
        "id": "DHzmbgejpd6s",
        "outputId": "098c8d91-8655-45a3-9d13-bd5360616189"
      },
      "source": [
        "for index in range(dataset.shape[0]):\n",
        "  dataset['headline'][index] = dataset['headline'][index].lower() "
      ],
      "execution_count": 76,
      "outputs": [
        {
          "output_type": "stream",
          "text": [
            "/usr/local/lib/python3.7/dist-packages/ipykernel_launcher.py:2: SettingWithCopyWarning: \n",
            "A value is trying to be set on a copy of a slice from a DataFrame\n",
            "\n",
            "See the caveats in the documentation: https://pandas.pydata.org/pandas-docs/stable/user_guide/indexing.html#returning-a-view-versus-a-copy\n",
            "  \n"
          ],
          "name": "stderr"
        }
      ]
    },
    {
      "cell_type": "code",
      "metadata": {
        "colab": {
          "base_uri": "https://localhost:8080/",
          "height": 0
        },
        "id": "CP0T73e8bN7l",
        "outputId": "b37bda89-4388-4401-b226-8b6b22deb8cc"
      },
      "source": [
        "dataset"
      ],
      "execution_count": 77,
      "outputs": [
        {
          "output_type": "execute_result",
          "data": {
            "text/html": [
              "<div>\n",
              "<style scoped>\n",
              "    .dataframe tbody tr th:only-of-type {\n",
              "        vertical-align: middle;\n",
              "    }\n",
              "\n",
              "    .dataframe tbody tr th {\n",
              "        vertical-align: top;\n",
              "    }\n",
              "\n",
              "    .dataframe thead th {\n",
              "        text-align: right;\n",
              "    }\n",
              "</style>\n",
              "<table border=\"1\" class=\"dataframe\">\n",
              "  <thead>\n",
              "    <tr style=\"text-align: right;\">\n",
              "      <th></th>\n",
              "      <th>is_sarcastic</th>\n",
              "      <th>headline</th>\n",
              "    </tr>\n",
              "  </thead>\n",
              "  <tbody>\n",
              "    <tr>\n",
              "      <th>0</th>\n",
              "      <td>1</td>\n",
              "      <td>toobin reinstated touching interview got easy</td>\n",
              "    </tr>\n",
              "    <tr>\n",
              "      <th>1</th>\n",
              "      <td>1</td>\n",
              "      <td>joel osteen attacks attacks bible</td>\n",
              "    </tr>\n",
              "    <tr>\n",
              "      <th>2</th>\n",
              "      <td>1</td>\n",
              "      <td>cnn forced reset days since trump proven right...</td>\n",
              "    </tr>\n",
              "    <tr>\n",
              "      <th>3</th>\n",
              "      <td>1</td>\n",
              "      <td>biden dont use nword aint son</td>\n",
              "    </tr>\n",
              "    <tr>\n",
              "      <th>4</th>\n",
              "      <td>1</td>\n",
              "      <td>pelosi asks omar clarify ambiguous statement k...</td>\n",
              "    </tr>\n",
              "    <tr>\n",
              "      <th>...</th>\n",
              "      <td>...</td>\n",
              "      <td>...</td>\n",
              "    </tr>\n",
              "    <tr>\n",
              "      <th>106699</th>\n",
              "      <td>1</td>\n",
              "      <td>distressed fyre festival attendees on beach sp...</td>\n",
              "    </tr>\n",
              "    <tr>\n",
              "      <th>106700</th>\n",
              "      <td>1</td>\n",
              "      <td>ninth day of tour marks 15th straight day of t...</td>\n",
              "    </tr>\n",
              "    <tr>\n",
              "      <th>106701</th>\n",
              "      <td>1</td>\n",
              "      <td>sickest hardcore venue in town also open at 11...</td>\n",
              "    </tr>\n",
              "    <tr>\n",
              "      <th>106702</th>\n",
              "      <td>1</td>\n",
              "      <td>punk on ‘shark tank’ wants $25 to make some pins</td>\n",
              "    </tr>\n",
              "    <tr>\n",
              "      <th>106703</th>\n",
              "      <td>1</td>\n",
              "      <td>progressive family unable to finish game of ‘g...</td>\n",
              "    </tr>\n",
              "  </tbody>\n",
              "</table>\n",
              "<p>106704 rows × 2 columns</p>\n",
              "</div>"
            ],
            "text/plain": [
              "        is_sarcastic                                           headline\n",
              "0                  1      toobin reinstated touching interview got easy\n",
              "1                  1                  joel osteen attacks attacks bible\n",
              "2                  1  cnn forced reset days since trump proven right...\n",
              "3                  1                      biden dont use nword aint son\n",
              "4                  1  pelosi asks omar clarify ambiguous statement k...\n",
              "...              ...                                                ...\n",
              "106699             1  distressed fyre festival attendees on beach sp...\n",
              "106700             1  ninth day of tour marks 15th straight day of t...\n",
              "106701             1  sickest hardcore venue in town also open at 11...\n",
              "106702             1   punk on ‘shark tank’ wants $25 to make some pins\n",
              "106703             1  progressive family unable to finish game of ‘g...\n",
              "\n",
              "[106704 rows x 2 columns]"
            ]
          },
          "metadata": {
            "tags": []
          },
          "execution_count": 77
        }
      ]
    },
    {
      "cell_type": "markdown",
      "metadata": {
        "id": "VnUpGWBSW7JA"
      },
      "source": [
        "## Remove Special Character"
      ]
    },
    {
      "cell_type": "markdown",
      "metadata": {
        "id": "UQpQFRaYp7Hs"
      },
      "source": [
        "Theo như nhóm em tìm hiểu thì chúng ta cần loại bỏ các ký tự đặc biệt như \"! # $ % ...\" để đưa vào các model như word2vec, ... vì những model ấy chỉ có những từ có nghĩa trong từ điển "
      ]
    },
    {
      "cell_type": "code",
      "metadata": {
        "colab": {
          "base_uri": "https://localhost:8080/"
        },
        "id": "fBgctWApom--",
        "outputId": "90f7c736-bbc5-464c-c521-59747ac60953"
      },
      "source": [
        "import string\n",
        "input_str = \"This &is [an] example? {of} string. with.? punctuation!!!!\" # Sample string\n",
        "result = input_str.translate(str.maketrans(\"\",\"\", string.punctuation))\n",
        "print(result)"
      ],
      "execution_count": 78,
      "outputs": [
        {
          "output_type": "stream",
          "text": [
            "This is an example of string with punctuation\n"
          ],
          "name": "stdout"
        }
      ]
    },
    {
      "cell_type": "code",
      "metadata": {
        "colab": {
          "base_uri": "https://localhost:8080/"
        },
        "id": "7cp5-2_5rM0I",
        "outputId": "88bea334-0b86-4dbd-8217-7f3917e36ed5"
      },
      "source": [
        "for index in range(dataset.shape[0]):\n",
        "  dataset['headline'][index] = dataset['headline'][index].translate(str.maketrans(\"\",\"\", string.punctuation))"
      ],
      "execution_count": 79,
      "outputs": [
        {
          "output_type": "stream",
          "text": [
            "/usr/local/lib/python3.7/dist-packages/ipykernel_launcher.py:2: SettingWithCopyWarning: \n",
            "A value is trying to be set on a copy of a slice from a DataFrame\n",
            "\n",
            "See the caveats in the documentation: https://pandas.pydata.org/pandas-docs/stable/user_guide/indexing.html#returning-a-view-versus-a-copy\n",
            "  \n"
          ],
          "name": "stderr"
        }
      ]
    },
    {
      "cell_type": "code",
      "metadata": {
        "colab": {
          "base_uri": "https://localhost:8080/",
          "height": 0
        },
        "id": "FbpxHDmSrZXv",
        "outputId": "c8975286-3cd7-4345-dd8f-9c48c6a5bcc8"
      },
      "source": [
        "dataset"
      ],
      "execution_count": 80,
      "outputs": [
        {
          "output_type": "execute_result",
          "data": {
            "text/html": [
              "<div>\n",
              "<style scoped>\n",
              "    .dataframe tbody tr th:only-of-type {\n",
              "        vertical-align: middle;\n",
              "    }\n",
              "\n",
              "    .dataframe tbody tr th {\n",
              "        vertical-align: top;\n",
              "    }\n",
              "\n",
              "    .dataframe thead th {\n",
              "        text-align: right;\n",
              "    }\n",
              "</style>\n",
              "<table border=\"1\" class=\"dataframe\">\n",
              "  <thead>\n",
              "    <tr style=\"text-align: right;\">\n",
              "      <th></th>\n",
              "      <th>is_sarcastic</th>\n",
              "      <th>headline</th>\n",
              "    </tr>\n",
              "  </thead>\n",
              "  <tbody>\n",
              "    <tr>\n",
              "      <th>0</th>\n",
              "      <td>1</td>\n",
              "      <td>toobin reinstated touching interview got easy</td>\n",
              "    </tr>\n",
              "    <tr>\n",
              "      <th>1</th>\n",
              "      <td>1</td>\n",
              "      <td>joel osteen attacks attacks bible</td>\n",
              "    </tr>\n",
              "    <tr>\n",
              "      <th>2</th>\n",
              "      <td>1</td>\n",
              "      <td>cnn forced reset days since trump proven right...</td>\n",
              "    </tr>\n",
              "    <tr>\n",
              "      <th>3</th>\n",
              "      <td>1</td>\n",
              "      <td>biden dont use nword aint son</td>\n",
              "    </tr>\n",
              "    <tr>\n",
              "      <th>4</th>\n",
              "      <td>1</td>\n",
              "      <td>pelosi asks omar clarify ambiguous statement k...</td>\n",
              "    </tr>\n",
              "    <tr>\n",
              "      <th>...</th>\n",
              "      <td>...</td>\n",
              "      <td>...</td>\n",
              "    </tr>\n",
              "    <tr>\n",
              "      <th>106699</th>\n",
              "      <td>1</td>\n",
              "      <td>distressed fyre festival attendees on beach sp...</td>\n",
              "    </tr>\n",
              "    <tr>\n",
              "      <th>106700</th>\n",
              "      <td>1</td>\n",
              "      <td>ninth day of tour marks 15th straight day of t...</td>\n",
              "    </tr>\n",
              "    <tr>\n",
              "      <th>106701</th>\n",
              "      <td>1</td>\n",
              "      <td>sickest hardcore venue in town also open at 11...</td>\n",
              "    </tr>\n",
              "    <tr>\n",
              "      <th>106702</th>\n",
              "      <td>1</td>\n",
              "      <td>punk on ‘shark tank’ wants 25 to make some pins</td>\n",
              "    </tr>\n",
              "    <tr>\n",
              "      <th>106703</th>\n",
              "      <td>1</td>\n",
              "      <td>progressive family unable to finish game of ‘g...</td>\n",
              "    </tr>\n",
              "  </tbody>\n",
              "</table>\n",
              "<p>106704 rows × 2 columns</p>\n",
              "</div>"
            ],
            "text/plain": [
              "        is_sarcastic                                           headline\n",
              "0                  1      toobin reinstated touching interview got easy\n",
              "1                  1                  joel osteen attacks attacks bible\n",
              "2                  1  cnn forced reset days since trump proven right...\n",
              "3                  1                      biden dont use nword aint son\n",
              "4                  1  pelosi asks omar clarify ambiguous statement k...\n",
              "...              ...                                                ...\n",
              "106699             1  distressed fyre festival attendees on beach sp...\n",
              "106700             1  ninth day of tour marks 15th straight day of t...\n",
              "106701             1  sickest hardcore venue in town also open at 11...\n",
              "106702             1    punk on ‘shark tank’ wants 25 to make some pins\n",
              "106703             1  progressive family unable to finish game of ‘g...\n",
              "\n",
              "[106704 rows x 2 columns]"
            ]
          },
          "metadata": {
            "tags": []
          },
          "execution_count": 80
        }
      ]
    },
    {
      "cell_type": "markdown",
      "metadata": {
        "id": "WdpBUuplr4Jx"
      },
      "source": [
        "## Remove \"\\t\""
      ]
    },
    {
      "cell_type": "code",
      "metadata": {
        "colab": {
          "base_uri": "https://localhost:8080/"
        },
        "id": "vkPaSUK-s16U",
        "outputId": "b8d0fd81-4414-436c-fe9e-df36a4621336"
      },
      "source": [
        "for index in range(dataset.shape[0]):\n",
        "  dataset['headline'][index] = dataset['headline'][index].strip()"
      ],
      "execution_count": 81,
      "outputs": [
        {
          "output_type": "stream",
          "text": [
            "/usr/local/lib/python3.7/dist-packages/ipykernel_launcher.py:2: SettingWithCopyWarning: \n",
            "A value is trying to be set on a copy of a slice from a DataFrame\n",
            "\n",
            "See the caveats in the documentation: https://pandas.pydata.org/pandas-docs/stable/user_guide/indexing.html#returning-a-view-versus-a-copy\n",
            "  \n"
          ],
          "name": "stderr"
        }
      ]
    },
    {
      "cell_type": "code",
      "metadata": {
        "colab": {
          "base_uri": "https://localhost:8080/",
          "height": 0
        },
        "id": "OQrepKq3tU8x",
        "outputId": "311596c0-9697-4145-ef8d-0d458e9a9dd3"
      },
      "source": [
        "dataset"
      ],
      "execution_count": 82,
      "outputs": [
        {
          "output_type": "execute_result",
          "data": {
            "text/html": [
              "<div>\n",
              "<style scoped>\n",
              "    .dataframe tbody tr th:only-of-type {\n",
              "        vertical-align: middle;\n",
              "    }\n",
              "\n",
              "    .dataframe tbody tr th {\n",
              "        vertical-align: top;\n",
              "    }\n",
              "\n",
              "    .dataframe thead th {\n",
              "        text-align: right;\n",
              "    }\n",
              "</style>\n",
              "<table border=\"1\" class=\"dataframe\">\n",
              "  <thead>\n",
              "    <tr style=\"text-align: right;\">\n",
              "      <th></th>\n",
              "      <th>is_sarcastic</th>\n",
              "      <th>headline</th>\n",
              "    </tr>\n",
              "  </thead>\n",
              "  <tbody>\n",
              "    <tr>\n",
              "      <th>0</th>\n",
              "      <td>1</td>\n",
              "      <td>toobin reinstated touching interview got easy</td>\n",
              "    </tr>\n",
              "    <tr>\n",
              "      <th>1</th>\n",
              "      <td>1</td>\n",
              "      <td>joel osteen attacks attacks bible</td>\n",
              "    </tr>\n",
              "    <tr>\n",
              "      <th>2</th>\n",
              "      <td>1</td>\n",
              "      <td>cnn forced reset days since trump proven right...</td>\n",
              "    </tr>\n",
              "    <tr>\n",
              "      <th>3</th>\n",
              "      <td>1</td>\n",
              "      <td>biden dont use nword aint son</td>\n",
              "    </tr>\n",
              "    <tr>\n",
              "      <th>4</th>\n",
              "      <td>1</td>\n",
              "      <td>pelosi asks omar clarify ambiguous statement k...</td>\n",
              "    </tr>\n",
              "    <tr>\n",
              "      <th>...</th>\n",
              "      <td>...</td>\n",
              "      <td>...</td>\n",
              "    </tr>\n",
              "    <tr>\n",
              "      <th>106699</th>\n",
              "      <td>1</td>\n",
              "      <td>distressed fyre festival attendees on beach sp...</td>\n",
              "    </tr>\n",
              "    <tr>\n",
              "      <th>106700</th>\n",
              "      <td>1</td>\n",
              "      <td>ninth day of tour marks 15th straight day of t...</td>\n",
              "    </tr>\n",
              "    <tr>\n",
              "      <th>106701</th>\n",
              "      <td>1</td>\n",
              "      <td>sickest hardcore venue in town also open at 11...</td>\n",
              "    </tr>\n",
              "    <tr>\n",
              "      <th>106702</th>\n",
              "      <td>1</td>\n",
              "      <td>punk on ‘shark tank’ wants 25 to make some pins</td>\n",
              "    </tr>\n",
              "    <tr>\n",
              "      <th>106703</th>\n",
              "      <td>1</td>\n",
              "      <td>progressive family unable to finish game of ‘g...</td>\n",
              "    </tr>\n",
              "  </tbody>\n",
              "</table>\n",
              "<p>106704 rows × 2 columns</p>\n",
              "</div>"
            ],
            "text/plain": [
              "        is_sarcastic                                           headline\n",
              "0                  1      toobin reinstated touching interview got easy\n",
              "1                  1                  joel osteen attacks attacks bible\n",
              "2                  1  cnn forced reset days since trump proven right...\n",
              "3                  1                      biden dont use nword aint son\n",
              "4                  1  pelosi asks omar clarify ambiguous statement k...\n",
              "...              ...                                                ...\n",
              "106699             1  distressed fyre festival attendees on beach sp...\n",
              "106700             1  ninth day of tour marks 15th straight day of t...\n",
              "106701             1  sickest hardcore venue in town also open at 11...\n",
              "106702             1    punk on ‘shark tank’ wants 25 to make some pins\n",
              "106703             1  progressive family unable to finish game of ‘g...\n",
              "\n",
              "[106704 rows x 2 columns]"
            ]
          },
          "metadata": {
            "tags": []
          },
          "execution_count": 82
        }
      ]
    },
    {
      "cell_type": "markdown",
      "metadata": {
        "id": "kh6beXlAufrf"
      },
      "source": [
        "## Remove Stopwords"
      ]
    },
    {
      "cell_type": "markdown",
      "metadata": {
        "id": "XJbHsHxMu2av"
      },
      "source": [
        "Stopwords là những từ phổ biến nhất trong một ngôn ngữ như “the”, “a”, “on”, “is”, “all”. Những từ này không mang ý nghĩa quan trọng và thường bị xóa khỏi văn bản. Chính vì thế nhóm em sẽ loại bỏ bớt chúng trong tập dữ liệu"
      ]
    },
    {
      "cell_type": "code",
      "metadata": {
        "colab": {
          "base_uri": "https://localhost:8080/"
        },
        "id": "GJdDfwUEyBul",
        "outputId": "0b29ee0f-fb55-49ee-9771-2e5c3f056c26"
      },
      "source": [
        "nltk.download('stopwords')\n",
        "nltk.download('punkt')"
      ],
      "execution_count": 83,
      "outputs": [
        {
          "output_type": "stream",
          "text": [
            "[nltk_data] Downloading package stopwords to /root/nltk_data...\n",
            "[nltk_data]   Package stopwords is already up-to-date!\n",
            "[nltk_data] Downloading package punkt to /root/nltk_data...\n",
            "[nltk_data]   Package punkt is already up-to-date!\n"
          ],
          "name": "stdout"
        },
        {
          "output_type": "execute_result",
          "data": {
            "text/plain": [
              "True"
            ]
          },
          "metadata": {
            "tags": []
          },
          "execution_count": 83
        }
      ]
    },
    {
      "cell_type": "code",
      "metadata": {
        "colab": {
          "base_uri": "https://localhost:8080/"
        },
        "id": "lx8Cy8ZQufSd",
        "outputId": "41cef1f3-eef9-400f-eb6f-91c1d4d65dfc"
      },
      "source": [
        "from nltk.corpus import stopwords\n",
        "#Một số stopword trong tiếng anh\n",
        "print(stopwords.words('english'))"
      ],
      "execution_count": 84,
      "outputs": [
        {
          "output_type": "stream",
          "text": [
            "['i', 'me', 'my', 'myself', 'we', 'our', 'ours', 'ourselves', 'you', \"you're\", \"you've\", \"you'll\", \"you'd\", 'your', 'yours', 'yourself', 'yourselves', 'he', 'him', 'his', 'himself', 'she', \"she's\", 'her', 'hers', 'herself', 'it', \"it's\", 'its', 'itself', 'they', 'them', 'their', 'theirs', 'themselves', 'what', 'which', 'who', 'whom', 'this', 'that', \"that'll\", 'these', 'those', 'am', 'is', 'are', 'was', 'were', 'be', 'been', 'being', 'have', 'has', 'had', 'having', 'do', 'does', 'did', 'doing', 'a', 'an', 'the', 'and', 'but', 'if', 'or', 'because', 'as', 'until', 'while', 'of', 'at', 'by', 'for', 'with', 'about', 'against', 'between', 'into', 'through', 'during', 'before', 'after', 'above', 'below', 'to', 'from', 'up', 'down', 'in', 'out', 'on', 'off', 'over', 'under', 'again', 'further', 'then', 'once', 'here', 'there', 'when', 'where', 'why', 'how', 'all', 'any', 'both', 'each', 'few', 'more', 'most', 'other', 'some', 'such', 'no', 'nor', 'not', 'only', 'own', 'same', 'so', 'than', 'too', 'very', 's', 't', 'can', 'will', 'just', 'don', \"don't\", 'should', \"should've\", 'now', 'd', 'll', 'm', 'o', 're', 've', 'y', 'ain', 'aren', \"aren't\", 'couldn', \"couldn't\", 'didn', \"didn't\", 'doesn', \"doesn't\", 'hadn', \"hadn't\", 'hasn', \"hasn't\", 'haven', \"haven't\", 'isn', \"isn't\", 'ma', 'mightn', \"mightn't\", 'mustn', \"mustn't\", 'needn', \"needn't\", 'shan', \"shan't\", 'shouldn', \"shouldn't\", 'wasn', \"wasn't\", 'weren', \"weren't\", 'won', \"won't\", 'wouldn', \"wouldn't\"]\n"
          ],
          "name": "stdout"
        }
      ]
    },
    {
      "cell_type": "code",
      "metadata": {
        "id": "YKtKYZpMvelM"
      },
      "source": [
        "stop_words = set(stopwords.words(\"english\"))\n",
        "from nltk.tokenize import word_tokenize"
      ],
      "execution_count": 85,
      "outputs": []
    },
    {
      "cell_type": "code",
      "metadata": {
        "id": "3PsVhUnlxvSo"
      },
      "source": [
        "def remove_stopwords(headline):\n",
        "  word_token=word_tokenize(headline)\n",
        "  clean_headline=[i for i in word_token if i not in stop_words]\n",
        "  return ' '.join([str(elem) for elem in clean_headline])\n",
        "dataset['headline'] = dataset['headline'].apply(remove_stopwords)"
      ],
      "execution_count": 86,
      "outputs": []
    },
    {
      "cell_type": "code",
      "metadata": {
        "colab": {
          "base_uri": "https://localhost:8080/",
          "height": 0
        },
        "id": "3lyuTQGpyP2i",
        "outputId": "5f761339-1ec8-448d-8da3-dee1f1e165fa"
      },
      "source": [
        "dataset"
      ],
      "execution_count": 87,
      "outputs": [
        {
          "output_type": "execute_result",
          "data": {
            "text/html": [
              "<div>\n",
              "<style scoped>\n",
              "    .dataframe tbody tr th:only-of-type {\n",
              "        vertical-align: middle;\n",
              "    }\n",
              "\n",
              "    .dataframe tbody tr th {\n",
              "        vertical-align: top;\n",
              "    }\n",
              "\n",
              "    .dataframe thead th {\n",
              "        text-align: right;\n",
              "    }\n",
              "</style>\n",
              "<table border=\"1\" class=\"dataframe\">\n",
              "  <thead>\n",
              "    <tr style=\"text-align: right;\">\n",
              "      <th></th>\n",
              "      <th>is_sarcastic</th>\n",
              "      <th>headline</th>\n",
              "    </tr>\n",
              "  </thead>\n",
              "  <tbody>\n",
              "    <tr>\n",
              "      <th>0</th>\n",
              "      <td>1</td>\n",
              "      <td>toobin reinstated touching interview got easy</td>\n",
              "    </tr>\n",
              "    <tr>\n",
              "      <th>1</th>\n",
              "      <td>1</td>\n",
              "      <td>joel osteen attacks attacks bible</td>\n",
              "    </tr>\n",
              "    <tr>\n",
              "      <th>2</th>\n",
              "      <td>1</td>\n",
              "      <td>cnn forced reset days since trump proven right...</td>\n",
              "    </tr>\n",
              "    <tr>\n",
              "      <th>3</th>\n",
              "      <td>1</td>\n",
              "      <td>biden dont use nword aint son</td>\n",
              "    </tr>\n",
              "    <tr>\n",
              "      <th>4</th>\n",
              "      <td>1</td>\n",
              "      <td>pelosi asks omar clarify ambiguous statement k...</td>\n",
              "    </tr>\n",
              "    <tr>\n",
              "      <th>...</th>\n",
              "      <td>...</td>\n",
              "      <td>...</td>\n",
              "    </tr>\n",
              "    <tr>\n",
              "      <th>106699</th>\n",
              "      <td>1</td>\n",
              "      <td>distressed fyre festival attendees beach spell...</td>\n",
              "    </tr>\n",
              "    <tr>\n",
              "      <th>106700</th>\n",
              "      <td>1</td>\n",
              "      <td>ninth day tour marks 15th straight day taco bell</td>\n",
              "    </tr>\n",
              "    <tr>\n",
              "      <th>106701</th>\n",
              "      <td>1</td>\n",
              "      <td>sickest hardcore venue town also open 11 sunda...</td>\n",
              "    </tr>\n",
              "    <tr>\n",
              "      <th>106702</th>\n",
              "      <td>1</td>\n",
              "      <td>punk ‘ shark tank ’ wants 25 make pins</td>\n",
              "    </tr>\n",
              "    <tr>\n",
              "      <th>106703</th>\n",
              "      <td>1</td>\n",
              "      <td>progressive family unable finish game ‘ guess ’</td>\n",
              "    </tr>\n",
              "  </tbody>\n",
              "</table>\n",
              "<p>106704 rows × 2 columns</p>\n",
              "</div>"
            ],
            "text/plain": [
              "        is_sarcastic                                           headline\n",
              "0                  1      toobin reinstated touching interview got easy\n",
              "1                  1                  joel osteen attacks attacks bible\n",
              "2                  1  cnn forced reset days since trump proven right...\n",
              "3                  1                      biden dont use nword aint son\n",
              "4                  1  pelosi asks omar clarify ambiguous statement k...\n",
              "...              ...                                                ...\n",
              "106699             1  distressed fyre festival attendees beach spell...\n",
              "106700             1   ninth day tour marks 15th straight day taco bell\n",
              "106701             1  sickest hardcore venue town also open 11 sunda...\n",
              "106702             1             punk ‘ shark tank ’ wants 25 make pins\n",
              "106703             1    progressive family unable finish game ‘ guess ’\n",
              "\n",
              "[106704 rows x 2 columns]"
            ]
          },
          "metadata": {
            "tags": []
          },
          "execution_count": 87
        }
      ]
    },
    {
      "cell_type": "markdown",
      "metadata": {
        "id": "2TbpD-ZH1h01"
      },
      "source": [
        "# Train Model"
      ]
    },
    {
      "cell_type": "markdown",
      "metadata": {
        "id": "FdT_GES_9uq_"
      },
      "source": [
        "## Split"
      ]
    },
    {
      "cell_type": "code",
      "metadata": {
        "id": "p9cH8XQ-B9bq"
      },
      "source": [
        "X_train, X_test, y_train, y_test = train_test_split(dataset['headline'],dataset['is_sarcastic'] , test_size=0.2, random_state=42)"
      ],
      "execution_count": 88,
      "outputs": []
    },
    {
      "cell_type": "markdown",
      "metadata": {
        "id": "MzQriAFt_2tH"
      },
      "source": [
        "## Create vocab"
      ]
    },
    {
      "cell_type": "code",
      "metadata": {
        "id": "jaVdimBlIFnw",
        "colab": {
          "base_uri": "https://localhost:8080/"
        },
        "outputId": "e2ba5f92-b8f6-4bb6-ba03-f4997fc86b61"
      },
      "source": [
        "#tách các từ trong câu thành kiểu list trong data train\n",
        "words = []\n",
        "for i in X_train:\n",
        "  words.append(i.split())\n",
        "\n",
        "#tách các từ trong câu thành kiểu list trong data test\n",
        "words_test = []\n",
        "for i in X_test:\n",
        "  words_test.append(i.split())\n",
        "  words_test\n",
        "#in ra demo 9 headlines đầu tiên\n",
        "words[:5]"
      ],
      "execution_count": 89,
      "outputs": [
        {
          "output_type": "execute_result",
          "data": {
            "text/plain": [
              "[['shirley',\n",
              "  'knight',\n",
              "  'oscarnominated',\n",
              "  'actress',\n",
              "  'sweet',\n",
              "  'bird',\n",
              "  'youth',\n",
              "  'dies',\n",
              "  '83'],\n",
              " ['vanessa', 'bryant', 'slams', 'lawsuit', 'mom', 'seeking', 'support'],\n",
              " ['band', 'set', 'big', 'screen', 'behind', 'pool', 'table'],\n",
              " ['part',\n",
              "  'settlement',\n",
              "  'nick',\n",
              "  'sandmann',\n",
              "  'cnn',\n",
              "  'hosts',\n",
              "  'must',\n",
              "  'wear',\n",
              "  'maga',\n",
              "  'hats',\n",
              "  'broadcasts'],\n",
              " ['sludge',\n",
              "  'band',\n",
              "  'would',\n",
              "  'death',\n",
              "  'metal',\n",
              "  '’',\n",
              "  'goddamn',\n",
              "  'tired',\n",
              "  'time']]"
            ]
          },
          "metadata": {
            "tags": []
          },
          "execution_count": 89
        }
      ]
    },
    {
      "cell_type": "code",
      "metadata": {
        "id": "Vvu4sjpAIGLk"
      },
      "source": [
        "# Tạo ra model để tính toán mối quan hệ giữa các từ xuất hiện trong data_to_w2v\n",
        "# size: kích thước vector biểu diễn cho một từ (size càng lớn thì càng phân biệt rõ sự khác nhau của một từ với các từ còn lại)\n",
        "# window: số lượng từ lân cận của từ đang xét trong câu.\n",
        "import gensim\n",
        "from gensim.models import Word2Vec\n",
        "model_w2v = gensim.models.Word2Vec(sentences = words, min_count = 1, size = 1, window = 5)"
      ],
      "execution_count": 90,
      "outputs": []
    },
    {
      "cell_type": "markdown",
      "metadata": {
        "id": "yP4ngCHA-3ue"
      },
      "source": [
        "## Word2vec"
      ]
    },
    {
      "cell_type": "code",
      "metadata": {
        "id": "9b8qKfw_IJxn"
      },
      "source": [
        "len(model_w2v.wv.vocab)\n",
        "num_voca = len(model_w2v.wv.vocab)\n",
        "\n",
        "#vectơ hóa các từ, bằng cách chuyển thành một chuỗi các số nguyên trong trên data train\n",
        "tokenizer = text.Tokenizer(num_voca)\n",
        "tokenizer.fit_on_texts(words)\n",
        "tokenized_train = tokenizer.texts_to_sequences(words)\n",
        "tokenized_test = tokenizer.texts_to_sequences(words_test)\n",
        "_x_train = sequence.pad_sequences(tokenized_train, maxlen = 20)\n",
        "_x_test = sequence.pad_sequences(tokenized_test, maxlen = 20)\n",
        "vocab_size = len(tokenizer.word_index) + 1\n",
        "#tạo trọng số cho ma trận vector của các từ\n",
        "def get_matrix_weights(model, vocab):\n",
        "  # như đã nói ở trên ta phải tăng kích thước của vocab_size lên 1 cho các từ chưa biết\n",
        "  vocab_size = len(vocab) + 1\n",
        "  weight = np.zeros((vocab_size, 1))\n",
        "  for word, index in vocab.items():\n",
        "    weight[index] = model[word]\n",
        "  return weight"
      ],
      "execution_count": 91,
      "outputs": []
    },
    {
      "cell_type": "code",
      "metadata": {
        "id": "pr5ZvWHCIKXE"
      },
      "source": [
        "vocab_size = len(tokenizer.word_index) + 1\n",
        "#tạo trọng số cho ma trận vector của các từ\n",
        "def get_matrix_weights(model, vocab):\n",
        "  # như đã nói ở trên ta phải tăng kích thước của vocab_size lên 1 cho các từ chưa biết\n",
        "  vocab_size = len(vocab) + 1\n",
        "  weight = np.zeros((vocab_size, 1))\n",
        "  for word, index in vocab.items():\n",
        "    weight[index] = model[word]\n",
        "  return weight"
      ],
      "execution_count": 92,
      "outputs": []
    },
    {
      "cell_type": "code",
      "metadata": {
        "id": "1FNEOhzZION3",
        "colab": {
          "base_uri": "https://localhost:8080/"
        },
        "outputId": "ff47b21a-6507-41bc-ec2e-6f3b550413d8"
      },
      "source": [
        "\n",
        "  #tạo trọng số ma trận cho vector của các từ trong vocab\n",
        "get_embbed_vector = get_matrix_weights(model_w2v, tokenizer.word_index)\n",
        "token_word = text.Tokenizer(num_voca)"
      ],
      "execution_count": 93,
      "outputs": [
        {
          "output_type": "stream",
          "text": [
            "/usr/local/lib/python3.7/dist-packages/ipykernel_launcher.py:8: DeprecationWarning: Call to deprecated `__getitem__` (Method will be removed in 4.0.0, use self.wv.__getitem__() instead).\n",
            "  \n"
          ],
          "name": "stderr"
        }
      ]
    },
    {
      "cell_type": "code",
      "metadata": {
        "id": "OFsHC2MlIPlL",
        "colab": {
          "base_uri": "https://localhost:8080/"
        },
        "outputId": "98fcc2ab-0f08-4232-d2eb-77dcb3432908"
      },
      "source": [
        "_model_w2v = Sequential()\n",
        "#thêm vào model các lớp layer chưa được đào tạo\n",
        "_model_w2v.add(Embedding(vocab_size, output_dim=1, weights = [get_embbed_vector], input_length=20,trainable=True ))\n",
        "#xây dựng mô hình LSTM cho model để train\n",
        "_model_w2v.add(Bidirectional(LSTM(units=128 , recurrent_dropout = 0.3 , dropout = 0.3,return_sequences = True)))\n",
        "_model_w2v.add(Bidirectional(GRU(units=32 , recurrent_dropout = 0.1 , dropout = 0.1)))\n",
        "_model_w2v.add(Dense(1, activation='sigmoid'))\n",
        "_model_w2v.compile(optimizer=keras.optimizers.Adam(lr = 0.01), loss='binary_crossentropy', metrics=['acc'])\n",
        "\n",
        "del get_embbed_vector"
      ],
      "execution_count": 94,
      "outputs": [
        {
          "output_type": "stream",
          "text": [
            "/usr/local/lib/python3.7/dist-packages/tensorflow/python/keras/optimizer_v2/optimizer_v2.py:375: UserWarning: The `lr` argument is deprecated, use `learning_rate` instead.\n",
            "  \"The `lr` argument is deprecated, use `learning_rate` instead.\")\n"
          ],
          "name": "stderr"
        }
      ]
    },
    {
      "cell_type": "code",
      "metadata": {
        "id": "jcLr2pVDIRUx",
        "colab": {
          "base_uri": "https://localhost:8080/"
        },
        "outputId": "d125345f-f025-4d11-d5c6-f837f8041ca1"
      },
      "source": [
        "_model_w2v.summary()"
      ],
      "execution_count": 95,
      "outputs": [
        {
          "output_type": "stream",
          "text": [
            "Model: \"sequential_4\"\n",
            "_________________________________________________________________\n",
            "Layer (type)                 Output Shape              Param #   \n",
            "=================================================================\n",
            "embedding_3 (Embedding)      (None, 20, 1)             43461     \n",
            "_________________________________________________________________\n",
            "bidirectional_6 (Bidirection (None, 20, 256)           133120    \n",
            "_________________________________________________________________\n",
            "bidirectional_7 (Bidirection (None, 64)                55680     \n",
            "_________________________________________________________________\n",
            "dense_3 (Dense)              (None, 1)                 65        \n",
            "=================================================================\n",
            "Total params: 232,326\n",
            "Trainable params: 232,326\n",
            "Non-trainable params: 0\n",
            "_________________________________________________________________\n"
          ],
          "name": "stdout"
        }
      ]
    },
    {
      "cell_type": "code",
      "metadata": {
        "id": "K38R8mayITmA",
        "colab": {
          "base_uri": "https://localhost:8080/"
        },
        "outputId": "1124f408-c3bf-472d-c50a-3bc6f5156eae"
      },
      "source": [
        "print(\"Accuracy of the model on traning: \" , _model_w2v.evaluate(_x_train,y_train)[1])\n"
      ],
      "execution_count": 96,
      "outputs": [
        {
          "output_type": "stream",
          "text": [
            "2668/2668 [==============================] - 49s 16ms/step - loss: 0.6134 - acc: 0.8118\n",
            "Accuracy of the model on traning:  0.8117802739143372\n"
          ],
          "name": "stdout"
        }
      ]
    },
    {
      "cell_type": "code",
      "metadata": {
        "id": "ecTj1bntIV32",
        "colab": {
          "base_uri": "https://localhost:8080/"
        },
        "outputId": "c94bb29d-f222-4ecd-e167-8b443c43470d"
      },
      "source": [
        "print(\"Accuracy of the model on testing: \" , _model_w2v.evaluate(_x_test,y_test)[1])\n"
      ],
      "execution_count": 97,
      "outputs": [
        {
          "output_type": "stream",
          "text": [
            "667/667 [==============================] - 10s 16ms/step - loss: 0.6117 - acc: 0.8151\n",
            "Accuracy of the model on testing:  0.8150976896286011\n"
          ],
          "name": "stdout"
        }
      ]
    }
  ]
}