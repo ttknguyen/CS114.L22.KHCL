{
  "nbformat": 4,
  "nbformat_minor": 0,
  "metadata": {
    "colab": {
      "name": "final-score_prediction.ipynb",
      "provenance": [],
      "collapsed_sections": [
        "Z4HdFDH_ga4H",
        "ARnJs5fYgbjB",
        "OLWhwaeg4u6G",
        "o7LSsdZ2a7r5",
        "s5Vn9m7s0-DH",
        "V1oIifbN1Bit"
      ],
      "toc_visible": true,
      "include_colab_link": true
    },
    "kernelspec": {
      "display_name": "Python 3",
      "name": "python3"
    },
    "language_info": {
      "name": "python"
    },
    "accelerator": "GPU"
  },
  "cells": [
    {
      "cell_type": "markdown",
      "metadata": {
        "id": "view-in-github",
        "colab_type": "text"
      },
      "source": [
        "<a href=\"https://colab.research.google.com/github/ttknguyen/CS114.L22.KHCL/blob/master/CS114.L22.KHCL/tree/master/BaiTapColab/Bai3/final_score_prediction.ipynb\" target=\"_parent\"><img src=\"https://colab.research.google.com/assets/colab-badge.svg\" alt=\"Open In Colab\"/></a>"
      ]
    },
    {
      "cell_type": "markdown",
      "metadata": {
        "id": "6JUKRp9ki8xW"
      },
      "source": [
        "**Bài tập colab: Dự đoán điểm cuối kỳ của sinh viên**"
      ]
    },
    {
      "cell_type": "markdown",
      "metadata": {
        "id": "S647siFIjDMs"
      },
      "source": [
        "Thành viên:\n",
        "  - Thái Trần Khánh Nguyên - 19520188\n",
        "  - Nguyễn Khánh Như - 19520209\n",
        "  - Đoàn Nguyễn Nhật Quang - 19520235"
      ]
    },
    {
      "cell_type": "markdown",
      "metadata": {
        "id": "Z4HdFDH_ga4H"
      },
      "source": [
        "# Import Libraries"
      ]
    },
    {
      "cell_type": "code",
      "metadata": {
        "id": "xMWqcybmv2Rw"
      },
      "source": [
        "import pandas as pd\n",
        "import numpy as np\n",
        "import sklearn\n",
        "import gdown\n",
        "import math\n",
        "\n",
        "import matplotlib.pyplot as plt\n",
        "from collections import Counter\n",
        "from sklearn import preprocessing\n",
        "from sklearn import utils\n",
        "\n",
        "from sklearn.model_selection import train_test_split\n",
        "from sklearn.linear_model import LinearRegression\n",
        "from sklearn import svm"
      ],
      "execution_count": 76,
      "outputs": []
    },
    {
      "cell_type": "markdown",
      "metadata": {
        "id": "ARnJs5fYgbjB"
      },
      "source": [
        "# Get & read data"
      ]
    },
    {
      "cell_type": "markdown",
      "metadata": {
        "id": "0MEfNggkYa01"
      },
      "source": [
        "- Nhóm em sử dụng thư viện gdown để download dữ liệu từ google drive thông qua id của file."
      ]
    },
    {
      "cell_type": "code",
      "metadata": {
        "colab": {
          "base_uri": "https://localhost:8080/",
          "height": 173
        },
        "id": "ghHAnZHKghqV",
        "outputId": "039cb816-eeff-4310-e85d-fda7429c7dc9"
      },
      "source": [
        "# Download dữ liệu của file wecode.csv\n",
        "gdown.download(\"https://drive.google.com/uc?id=1XNFKxi6y5l6ikrXixZjeQRiWOHYE1FhC\", 'wecode.csv', quiet=False)\n",
        "\n",
        "# Download dữ liệu của file score-training.csv\n",
        "gdown.download(\"https://drive.google.com/uc?id=1qelheHJLdNfcu-VcHmC0xPmt2vgeLjpX\", 'score_training.csv', quiet=False)"
      ],
      "execution_count": 3,
      "outputs": [
        {
          "output_type": "stream",
          "text": [
            "Downloading...\n",
            "From: https://drive.google.com/uc?id=1XNFKxi6y5l6ikrXixZjeQRiWOHYE1FhC\n",
            "To: /content/wecode.csv\n",
            "30.8MB [00:00, 229MB/s]\n",
            "Downloading...\n",
            "From: https://drive.google.com/uc?id=1qelheHJLdNfcu-VcHmC0xPmt2vgeLjpX\n",
            "To: /content/score_training.csv\n",
            "100%|██████████| 23.9k/23.9k [00:00<00:00, 6.29MB/s]\n"
          ],
          "name": "stderr"
        },
        {
          "output_type": "execute_result",
          "data": {
            "application/vnd.google.colaboratory.intrinsic+json": {
              "type": "string"
            },
            "text/plain": [
              "'score_training.csv'"
            ]
          },
          "metadata": {
            "tags": []
          },
          "execution_count": 3
        }
      ]
    },
    {
      "cell_type": "code",
      "metadata": {
        "id": "O1cp1WkMadzh"
      },
      "source": [
        "# Đọc 2 file vừa download  \n",
        "dataWecode = pd.read_csv(\"/content/wecode.csv\")\n",
        "dataScore_training = pd.read_csv(\"/content/score_training.csv\")"
      ],
      "execution_count": 35,
      "outputs": []
    },
    {
      "cell_type": "code",
      "metadata": {
        "colab": {
          "base_uri": "https://localhost:8080/",
          "height": 424
        },
        "id": "FBzCYvjgmJka",
        "outputId": "b177f85a-115d-47a9-ec62-c35d5df79a2d"
      },
      "source": [
        "# Kiểm tra file wecode.csv\n",
        "dataWecode"
      ],
      "execution_count": 5,
      "outputs": [
        {
          "output_type": "execute_result",
          "data": {
            "text/html": [
              "<div>\n",
              "<style scoped>\n",
              "    .dataframe tbody tr th:only-of-type {\n",
              "        vertical-align: middle;\n",
              "    }\n",
              "\n",
              "    .dataframe tbody tr th {\n",
              "        vertical-align: top;\n",
              "    }\n",
              "\n",
              "    .dataframe thead th {\n",
              "        text-align: right;\n",
              "    }\n",
              "</style>\n",
              "<table border=\"1\" class=\"dataframe\">\n",
              "  <thead>\n",
              "    <tr style=\"text-align: right;\">\n",
              "      <th></th>\n",
              "      <th>id</th>\n",
              "      <th>assignment_id</th>\n",
              "      <th>problem_id</th>\n",
              "      <th>user_id</th>\n",
              "      <th>is_final</th>\n",
              "      <th>status</th>\n",
              "      <th>pre_score</th>\n",
              "      <th>coefficient</th>\n",
              "      <th>file_name</th>\n",
              "      <th>language_id</th>\n",
              "      <th>created_at</th>\n",
              "      <th>updated_at</th>\n",
              "    </tr>\n",
              "  </thead>\n",
              "  <tbody>\n",
              "    <tr>\n",
              "      <th>0</th>\n",
              "      <td>4</td>\n",
              "      <td>0</td>\n",
              "      <td>3</td>\n",
              "      <td>4</td>\n",
              "      <td>1</td>\n",
              "      <td>SCORE</td>\n",
              "      <td>10000</td>\n",
              "      <td>100</td>\n",
              "      <td>solution-0</td>\n",
              "      <td>2</td>\n",
              "      <td>2020-10-30 10:58:11</td>\n",
              "      <td>2020-10-30 10:58:19</td>\n",
              "    </tr>\n",
              "    <tr>\n",
              "      <th>1</th>\n",
              "      <td>5</td>\n",
              "      <td>0</td>\n",
              "      <td>4</td>\n",
              "      <td>4</td>\n",
              "      <td>1</td>\n",
              "      <td>SCORE</td>\n",
              "      <td>10000</td>\n",
              "      <td>100</td>\n",
              "      <td>solution-1</td>\n",
              "      <td>2</td>\n",
              "      <td>2020-10-30 11:07:09</td>\n",
              "      <td>2020-10-30 11:07:17</td>\n",
              "    </tr>\n",
              "    <tr>\n",
              "      <th>2</th>\n",
              "      <td>6</td>\n",
              "      <td>0</td>\n",
              "      <td>5</td>\n",
              "      <td>4</td>\n",
              "      <td>0</td>\n",
              "      <td>Compilation Error</td>\n",
              "      <td>0</td>\n",
              "      <td>100</td>\n",
              "      <td>solution-2</td>\n",
              "      <td>2</td>\n",
              "      <td>2020-10-30 11:08:01</td>\n",
              "      <td>2020-10-30 11:23:36</td>\n",
              "    </tr>\n",
              "    <tr>\n",
              "      <th>3</th>\n",
              "      <td>7</td>\n",
              "      <td>0</td>\n",
              "      <td>5</td>\n",
              "      <td>4</td>\n",
              "      <td>0</td>\n",
              "      <td>Compilation Error</td>\n",
              "      <td>0</td>\n",
              "      <td>100</td>\n",
              "      <td>solution-3</td>\n",
              "      <td>2</td>\n",
              "      <td>2020-10-30 11:11:41</td>\n",
              "      <td>2020-10-30 11:11:42</td>\n",
              "    </tr>\n",
              "    <tr>\n",
              "      <th>4</th>\n",
              "      <td>8</td>\n",
              "      <td>0</td>\n",
              "      <td>5</td>\n",
              "      <td>4</td>\n",
              "      <td>0</td>\n",
              "      <td>Compilation Error</td>\n",
              "      <td>0</td>\n",
              "      <td>100</td>\n",
              "      <td>solution-4</td>\n",
              "      <td>2</td>\n",
              "      <td>2020-10-30 11:15:06</td>\n",
              "      <td>2020-10-30 11:15:07</td>\n",
              "    </tr>\n",
              "    <tr>\n",
              "      <th>...</th>\n",
              "      <td>...</td>\n",
              "      <td>...</td>\n",
              "      <td>...</td>\n",
              "      <td>...</td>\n",
              "      <td>...</td>\n",
              "      <td>...</td>\n",
              "      <td>...</td>\n",
              "      <td>...</td>\n",
              "      <td>...</td>\n",
              "      <td>...</td>\n",
              "      <td>...</td>\n",
              "      <td>...</td>\n",
              "    </tr>\n",
              "    <tr>\n",
              "      <th>264601</th>\n",
              "      <td>266667</td>\n",
              "      <td>0</td>\n",
              "      <td>25</td>\n",
              "      <td>1796</td>\n",
              "      <td>0</td>\n",
              "      <td>SCORE</td>\n",
              "      <td>0</td>\n",
              "      <td>100</td>\n",
              "      <td>solution-3977</td>\n",
              "      <td>4</td>\n",
              "      <td>2021-04-28 09:34:20</td>\n",
              "      <td>2021-04-28 09:34:27</td>\n",
              "    </tr>\n",
              "    <tr>\n",
              "      <th>264602</th>\n",
              "      <td>266668</td>\n",
              "      <td>0</td>\n",
              "      <td>25</td>\n",
              "      <td>1796</td>\n",
              "      <td>0</td>\n",
              "      <td>Compilation Error</td>\n",
              "      <td>0</td>\n",
              "      <td>100</td>\n",
              "      <td>solution-3978</td>\n",
              "      <td>2</td>\n",
              "      <td>2021-04-28 09:35:07</td>\n",
              "      <td>2021-04-28 09:35:08</td>\n",
              "    </tr>\n",
              "    <tr>\n",
              "      <th>264603</th>\n",
              "      <td>266669</td>\n",
              "      <td>0</td>\n",
              "      <td>25</td>\n",
              "      <td>1796</td>\n",
              "      <td>1</td>\n",
              "      <td>SCORE</td>\n",
              "      <td>10000</td>\n",
              "      <td>100</td>\n",
              "      <td>solution-3979</td>\n",
              "      <td>4</td>\n",
              "      <td>2021-04-28 09:35:15</td>\n",
              "      <td>2021-04-28 09:35:21</td>\n",
              "    </tr>\n",
              "    <tr>\n",
              "      <th>264604</th>\n",
              "      <td>266670</td>\n",
              "      <td>0</td>\n",
              "      <td>150</td>\n",
              "      <td>255</td>\n",
              "      <td>1</td>\n",
              "      <td>SCORE</td>\n",
              "      <td>6250</td>\n",
              "      <td>100</td>\n",
              "      <td>solution-3980</td>\n",
              "      <td>2</td>\n",
              "      <td>2021-05-11 01:34:57</td>\n",
              "      <td>2021-05-11 01:35:28</td>\n",
              "    </tr>\n",
              "    <tr>\n",
              "      <th>264605</th>\n",
              "      <td>266671</td>\n",
              "      <td>21</td>\n",
              "      <td>24</td>\n",
              "      <td>1568</td>\n",
              "      <td>0</td>\n",
              "      <td>SCORE</td>\n",
              "      <td>10000</td>\n",
              "      <td>100</td>\n",
              "      <td>solution-609</td>\n",
              "      <td>4</td>\n",
              "      <td>2021-05-13 17:17:17</td>\n",
              "      <td>2021-05-13 17:17:40</td>\n",
              "    </tr>\n",
              "  </tbody>\n",
              "</table>\n",
              "<p>264606 rows × 12 columns</p>\n",
              "</div>"
            ],
            "text/plain": [
              "            id  assignment_id  ...           created_at           updated_at\n",
              "0            4              0  ...  2020-10-30 10:58:11  2020-10-30 10:58:19\n",
              "1            5              0  ...  2020-10-30 11:07:09  2020-10-30 11:07:17\n",
              "2            6              0  ...  2020-10-30 11:08:01  2020-10-30 11:23:36\n",
              "3            7              0  ...  2020-10-30 11:11:41  2020-10-30 11:11:42\n",
              "4            8              0  ...  2020-10-30 11:15:06  2020-10-30 11:15:07\n",
              "...        ...            ...  ...                  ...                  ...\n",
              "264601  266667              0  ...  2021-04-28 09:34:20  2021-04-28 09:34:27\n",
              "264602  266668              0  ...  2021-04-28 09:35:07  2021-04-28 09:35:08\n",
              "264603  266669              0  ...  2021-04-28 09:35:15  2021-04-28 09:35:21\n",
              "264604  266670              0  ...  2021-05-11 01:34:57  2021-05-11 01:35:28\n",
              "264605  266671             21  ...  2021-05-13 17:17:17  2021-05-13 17:17:40\n",
              "\n",
              "[264606 rows x 12 columns]"
            ]
          },
          "metadata": {
            "tags": []
          },
          "execution_count": 5
        }
      ]
    },
    {
      "cell_type": "code",
      "metadata": {
        "colab": {
          "base_uri": "https://localhost:8080/"
        },
        "id": "uv3kXiRhfbjv",
        "outputId": "d44239ed-e544-463d-f6da-f4864ef7d40f"
      },
      "source": [
        "dataWecode.info()"
      ],
      "execution_count": 6,
      "outputs": [
        {
          "output_type": "stream",
          "text": [
            "<class 'pandas.core.frame.DataFrame'>\n",
            "RangeIndex: 264606 entries, 0 to 264605\n",
            "Data columns (total 12 columns):\n",
            " #   Column         Non-Null Count   Dtype \n",
            "---  ------         --------------   ----- \n",
            " 0   id             264606 non-null  int64 \n",
            " 1   assignment_id  264606 non-null  int64 \n",
            " 2   problem_id     264606 non-null  int64 \n",
            " 3   user_id        264606 non-null  int64 \n",
            " 4   is_final       264606 non-null  int64 \n",
            " 5   status         264605 non-null  object\n",
            " 6   pre_score      264606 non-null  int64 \n",
            " 7   coefficient    264606 non-null  object\n",
            " 8   file_name      264606 non-null  object\n",
            " 9   language_id    264606 non-null  int64 \n",
            " 10  created_at     264606 non-null  object\n",
            " 11  updated_at     264606 non-null  object\n",
            "dtypes: int64(7), object(5)\n",
            "memory usage: 24.2+ MB\n"
          ],
          "name": "stdout"
        }
      ]
    },
    {
      "cell_type": "code",
      "metadata": {
        "colab": {
          "base_uri": "https://localhost:8080/",
          "height": 424
        },
        "id": "jDo1CGa7mfSK",
        "outputId": "1af6e31e-f866-41fd-dbf7-c96dbc0e1dd8"
      },
      "source": [
        "# Kiểm tra file score_training.csv và đổi tên column id thành user_id cho khớp với file wecode.csv để thuận tiện cho việc gộp dữ liệu sau này\n",
        "dataScore_training.rename(columns={'id':'user_id'}, inplace=True)\n",
        "dataScore_training"
      ],
      "execution_count": 7,
      "outputs": [
        {
          "output_type": "execute_result",
          "data": {
            "text/html": [
              "<div>\n",
              "<style scoped>\n",
              "    .dataframe tbody tr th:only-of-type {\n",
              "        vertical-align: middle;\n",
              "    }\n",
              "\n",
              "    .dataframe tbody tr th {\n",
              "        vertical-align: top;\n",
              "    }\n",
              "\n",
              "    .dataframe thead th {\n",
              "        text-align: right;\n",
              "    }\n",
              "</style>\n",
              "<table border=\"1\" class=\"dataframe\">\n",
              "  <thead>\n",
              "    <tr style=\"text-align: right;\">\n",
              "      <th></th>\n",
              "      <th>user_id</th>\n",
              "      <th>QT</th>\n",
              "      <th>GK</th>\n",
              "      <th>TH</th>\n",
              "      <th>CK</th>\n",
              "      <th>TBM</th>\n",
              "      <th>TBTL</th>\n",
              "    </tr>\n",
              "  </thead>\n",
              "  <tbody>\n",
              "    <tr>\n",
              "      <th>0</th>\n",
              "      <td>22</td>\n",
              "      <td>10</td>\n",
              "      <td>9</td>\n",
              "      <td>8.5</td>\n",
              "      <td>8.5</td>\n",
              "      <td>8.8</td>\n",
              "      <td>8.52</td>\n",
              "    </tr>\n",
              "    <tr>\n",
              "      <th>1</th>\n",
              "      <td>24</td>\n",
              "      <td>10</td>\n",
              "      <td>8</td>\n",
              "      <td>10</td>\n",
              "      <td>9.5</td>\n",
              "      <td>9.4</td>\n",
              "      <td>8.41</td>\n",
              "    </tr>\n",
              "    <tr>\n",
              "      <th>2</th>\n",
              "      <td>27</td>\n",
              "      <td>10</td>\n",
              "      <td>10</td>\n",
              "      <td>10</td>\n",
              "      <td>10</td>\n",
              "      <td>10</td>\n",
              "      <td>8.67</td>\n",
              "    </tr>\n",
              "    <tr>\n",
              "      <th>3</th>\n",
              "      <td>28</td>\n",
              "      <td>10</td>\n",
              "      <td>9.5</td>\n",
              "      <td>7.5</td>\n",
              "      <td>9.5</td>\n",
              "      <td>9.2</td>\n",
              "      <td>7.39</td>\n",
              "    </tr>\n",
              "    <tr>\n",
              "      <th>4</th>\n",
              "      <td>29</td>\n",
              "      <td>10</td>\n",
              "      <td>9.5</td>\n",
              "      <td>5</td>\n",
              "      <td>8.5</td>\n",
              "      <td>8.2</td>\n",
              "      <td>8.05</td>\n",
              "    </tr>\n",
              "    <tr>\n",
              "      <th>...</th>\n",
              "      <td>...</td>\n",
              "      <td>...</td>\n",
              "      <td>...</td>\n",
              "      <td>...</td>\n",
              "      <td>...</td>\n",
              "      <td>...</td>\n",
              "      <td>...</td>\n",
              "    </tr>\n",
              "    <tr>\n",
              "      <th>970</th>\n",
              "      <td>1857</td>\n",
              "      <td>5</td>\n",
              "      <td>4.5</td>\n",
              "      <td>10</td>\n",
              "      <td>4</td>\n",
              "      <td>6</td>\n",
              "      <td>6.03</td>\n",
              "    </tr>\n",
              "    <tr>\n",
              "      <th>971</th>\n",
              "      <td>1859</td>\n",
              "      <td>8</td>\n",
              "      <td>5</td>\n",
              "      <td>10</td>\n",
              "      <td>1.5</td>\n",
              "      <td>5.4</td>\n",
              "      <td>5.06</td>\n",
              "    </tr>\n",
              "    <tr>\n",
              "      <th>972</th>\n",
              "      <td>1862</td>\n",
              "      <td>5</td>\n",
              "      <td>6.5</td>\n",
              "      <td>1</td>\n",
              "      <td>7.5</td>\n",
              "      <td>5.1</td>\n",
              "      <td>4.71</td>\n",
              "    </tr>\n",
              "    <tr>\n",
              "      <th>973</th>\n",
              "      <td>1865</td>\n",
              "      <td>6.5</td>\n",
              "      <td></td>\n",
              "      <td>3</td>\n",
              "      <td>7.5</td>\n",
              "      <td></td>\n",
              "      <td>6.89</td>\n",
              "    </tr>\n",
              "    <tr>\n",
              "      <th>974</th>\n",
              "      <td>1866</td>\n",
              "      <td>9</td>\n",
              "      <td>7.5</td>\n",
              "      <td>2</td>\n",
              "      <td>5</td>\n",
              "      <td>5</td>\n",
              "      <td>7.05</td>\n",
              "    </tr>\n",
              "  </tbody>\n",
              "</table>\n",
              "<p>975 rows × 7 columns</p>\n",
              "</div>"
            ],
            "text/plain": [
              "     user_id   QT   GK   TH   CK  TBM  TBTL\n",
              "0         22   10    9  8.5  8.5  8.8  8.52\n",
              "1         24   10    8   10  9.5  9.4  8.41\n",
              "2         27   10   10   10   10   10  8.67\n",
              "3         28   10  9.5  7.5  9.5  9.2  7.39\n",
              "4         29   10  9.5    5  8.5  8.2  8.05\n",
              "..       ...  ...  ...  ...  ...  ...   ...\n",
              "970     1857    5  4.5   10    4    6  6.03\n",
              "971     1859    8    5   10  1.5  5.4  5.06\n",
              "972     1862    5  6.5    1  7.5  5.1  4.71\n",
              "973     1865  6.5         3  7.5       6.89\n",
              "974     1866    9  7.5    2    5    5  7.05\n",
              "\n",
              "[975 rows x 7 columns]"
            ]
          },
          "metadata": {
            "tags": []
          },
          "execution_count": 7
        }
      ]
    },
    {
      "cell_type": "code",
      "metadata": {
        "colab": {
          "base_uri": "https://localhost:8080/"
        },
        "id": "ZHy5IdM6ff0n",
        "outputId": "671b70c8-9932-4ed4-ca75-0e3bb3bbbeed"
      },
      "source": [
        "dataScore_training.info()"
      ],
      "execution_count": 8,
      "outputs": [
        {
          "output_type": "stream",
          "text": [
            "<class 'pandas.core.frame.DataFrame'>\n",
            "RangeIndex: 975 entries, 0 to 974\n",
            "Data columns (total 7 columns):\n",
            " #   Column   Non-Null Count  Dtype \n",
            "---  ------   --------------  ----- \n",
            " 0   user_id  975 non-null    int64 \n",
            " 1   QT       973 non-null    object\n",
            " 2   GK       974 non-null    object\n",
            " 3   TH       974 non-null    object\n",
            " 4   CK       974 non-null    object\n",
            " 5   TBM      974 non-null    object\n",
            " 6   TBTL     974 non-null    object\n",
            "dtypes: int64(1), object(6)\n",
            "memory usage: 53.4+ KB\n"
          ],
          "name": "stdout"
        }
      ]
    },
    {
      "cell_type": "markdown",
      "metadata": {
        "id": "ZYrAgFXPh1DJ"
      },
      "source": [
        "# Preprocessing"
      ]
    },
    {
      "cell_type": "markdown",
      "metadata": {
        "id": "OLWhwaeg4u6G"
      },
      "source": [
        "## Lấy những cột có dữ liệu cần thiết"
      ]
    },
    {
      "cell_type": "markdown",
      "metadata": {
        "id": "Qj-194JIZfGg"
      },
      "source": [
        "-Theo như yêu cầu của đề bài thì chúng ta sẽ dự đoán điểm cuối kỳ của sinh viên thông qua việc làm bài trên wecode thế nên nhóm em sẽ lấy dữ liệu của điểm CK để tiến hành dự đoán"
      ]
    },
    {
      "cell_type": "code",
      "metadata": {
        "colab": {
          "base_uri": "https://localhost:8080/",
          "height": 424
        },
        "id": "Q4LzjD4P4wNh",
        "outputId": "902d64d2-c239-4d8a-ac2c-6e1f95a9da26"
      },
      "source": [
        "dataScore_training = dataScore_training[['user_id', 'CK']]\n",
        "dataScore_training"
      ],
      "execution_count": 9,
      "outputs": [
        {
          "output_type": "execute_result",
          "data": {
            "text/html": [
              "<div>\n",
              "<style scoped>\n",
              "    .dataframe tbody tr th:only-of-type {\n",
              "        vertical-align: middle;\n",
              "    }\n",
              "\n",
              "    .dataframe tbody tr th {\n",
              "        vertical-align: top;\n",
              "    }\n",
              "\n",
              "    .dataframe thead th {\n",
              "        text-align: right;\n",
              "    }\n",
              "</style>\n",
              "<table border=\"1\" class=\"dataframe\">\n",
              "  <thead>\n",
              "    <tr style=\"text-align: right;\">\n",
              "      <th></th>\n",
              "      <th>user_id</th>\n",
              "      <th>CK</th>\n",
              "    </tr>\n",
              "  </thead>\n",
              "  <tbody>\n",
              "    <tr>\n",
              "      <th>0</th>\n",
              "      <td>22</td>\n",
              "      <td>8.5</td>\n",
              "    </tr>\n",
              "    <tr>\n",
              "      <th>1</th>\n",
              "      <td>24</td>\n",
              "      <td>9.5</td>\n",
              "    </tr>\n",
              "    <tr>\n",
              "      <th>2</th>\n",
              "      <td>27</td>\n",
              "      <td>10</td>\n",
              "    </tr>\n",
              "    <tr>\n",
              "      <th>3</th>\n",
              "      <td>28</td>\n",
              "      <td>9.5</td>\n",
              "    </tr>\n",
              "    <tr>\n",
              "      <th>4</th>\n",
              "      <td>29</td>\n",
              "      <td>8.5</td>\n",
              "    </tr>\n",
              "    <tr>\n",
              "      <th>...</th>\n",
              "      <td>...</td>\n",
              "      <td>...</td>\n",
              "    </tr>\n",
              "    <tr>\n",
              "      <th>970</th>\n",
              "      <td>1857</td>\n",
              "      <td>4</td>\n",
              "    </tr>\n",
              "    <tr>\n",
              "      <th>971</th>\n",
              "      <td>1859</td>\n",
              "      <td>1.5</td>\n",
              "    </tr>\n",
              "    <tr>\n",
              "      <th>972</th>\n",
              "      <td>1862</td>\n",
              "      <td>7.5</td>\n",
              "    </tr>\n",
              "    <tr>\n",
              "      <th>973</th>\n",
              "      <td>1865</td>\n",
              "      <td>7.5</td>\n",
              "    </tr>\n",
              "    <tr>\n",
              "      <th>974</th>\n",
              "      <td>1866</td>\n",
              "      <td>5</td>\n",
              "    </tr>\n",
              "  </tbody>\n",
              "</table>\n",
              "<p>975 rows × 2 columns</p>\n",
              "</div>"
            ],
            "text/plain": [
              "     user_id   CK\n",
              "0         22  8.5\n",
              "1         24  9.5\n",
              "2         27   10\n",
              "3         28  9.5\n",
              "4         29  8.5\n",
              "..       ...  ...\n",
              "970     1857    4\n",
              "971     1859  1.5\n",
              "972     1862  7.5\n",
              "973     1865  7.5\n",
              "974     1866    5\n",
              "\n",
              "[975 rows x 2 columns]"
            ]
          },
          "metadata": {
            "tags": []
          },
          "execution_count": 9
        }
      ]
    },
    {
      "cell_type": "markdown",
      "metadata": {
        "id": "R_3704_S4vjB"
      },
      "source": [
        "## Tính toán những thông tin cần cho model"
      ]
    },
    {
      "cell_type": "markdown",
      "metadata": {
        "id": "E3C4wH9aZ02P"
      },
      "source": [
        "-Nhóm em dự đoán điểm cuối kỳ thông qua các chỉ số thể hiện mức độ chuyên cần của sinh viên trong quá trình làm wecode:\n",
        "  - Số bài tập đã giải được\n",
        "  - Số bài tập đã hoàn thành (score = 100000)\n",
        "  - Số lần nộp bài của sinh viên\n",
        "  - Số assignment sinh viên đã thử làm bài\n",
        "  - Tổng điểm trên wecode"
      ]
    },
    {
      "cell_type": "code",
      "metadata": {
        "id": "D7n1X3RqcrRF"
      },
      "source": [
        "#Đếm các problem đã hoàn thành \n",
        "def Solved_Problem(data):\n",
        "  if data['is_final'] == 1 and data['pre_score'] == 10000:\n",
        "    return 1\n",
        "  return 0"
      ],
      "execution_count": 10,
      "outputs": []
    },
    {
      "cell_type": "code",
      "metadata": {
        "id": "R2iEGNPOdE-s"
      },
      "source": [
        "dataWecode['solved_problem'] = dataWecode.apply(Solved_Problem,axis=1)"
      ],
      "execution_count": 11,
      "outputs": []
    },
    {
      "cell_type": "code",
      "metadata": {
        "id": "GUPdQk37ZDDC"
      },
      "source": [
        "groupByUserId = dataWecode.groupby(by='user_id', sort= True)"
      ],
      "execution_count": 12,
      "outputs": []
    },
    {
      "cell_type": "code",
      "metadata": {
        "id": "ly7QAHjOZwwo",
        "colab": {
          "base_uri": "https://localhost:8080/",
          "height": 454
        },
        "outputId": "3aa371ac-ec79-4259-a1c4-a39ff7a89707"
      },
      "source": [
        "data = pd.DataFrame({\n",
        "    # Số assignment đã làm thử \n",
        "    'assignment_tries': groupByUserId['assignment_id'].nunique(),  \n",
        "    # Số problem đã làm thử \n",
        "    'problem_tries': groupByUserId['problem_id'].nunique(),\n",
        "    # Số problem đã hoàn thành \n",
        "    'completed_problem': groupByUserId['solved_problem'].apply(lambda x: (x==1).sum()),\n",
        "    # Số lần submit \n",
        "    'submit_count': groupByUserId['problem_id'].count(),\n",
        "    # Số lần pre_score = 10000 \n",
        "    'total_pre_score': groupByUserId['pre_score'].apply(lambda x: (x==10000).sum()),\n",
        "    # Tổng điểm\n",
        "    'total_score': groupByUserId.apply(lambda x: x[x['is_final'] == 1]['pre_score'].sum())\n",
        "})\n",
        "\n",
        "data"
      ],
      "execution_count": 13,
      "outputs": [
        {
          "output_type": "execute_result",
          "data": {
            "text/html": [
              "<div>\n",
              "<style scoped>\n",
              "    .dataframe tbody tr th:only-of-type {\n",
              "        vertical-align: middle;\n",
              "    }\n",
              "\n",
              "    .dataframe tbody tr th {\n",
              "        vertical-align: top;\n",
              "    }\n",
              "\n",
              "    .dataframe thead th {\n",
              "        text-align: right;\n",
              "    }\n",
              "</style>\n",
              "<table border=\"1\" class=\"dataframe\">\n",
              "  <thead>\n",
              "    <tr style=\"text-align: right;\">\n",
              "      <th></th>\n",
              "      <th>assignment_tries</th>\n",
              "      <th>problem_tries</th>\n",
              "      <th>completed_problem</th>\n",
              "      <th>submit_count</th>\n",
              "      <th>total_pre_score</th>\n",
              "      <th>total_score</th>\n",
              "    </tr>\n",
              "    <tr>\n",
              "      <th>user_id</th>\n",
              "      <th></th>\n",
              "      <th></th>\n",
              "      <th></th>\n",
              "      <th></th>\n",
              "      <th></th>\n",
              "      <th></th>\n",
              "    </tr>\n",
              "  </thead>\n",
              "  <tbody>\n",
              "    <tr>\n",
              "      <th>1</th>\n",
              "      <td>1</td>\n",
              "      <td>2</td>\n",
              "      <td>1</td>\n",
              "      <td>2</td>\n",
              "      <td>1</td>\n",
              "      <td>10000</td>\n",
              "    </tr>\n",
              "    <tr>\n",
              "      <th>4</th>\n",
              "      <td>1</td>\n",
              "      <td>41</td>\n",
              "      <td>37</td>\n",
              "      <td>54</td>\n",
              "      <td>44</td>\n",
              "      <td>370000</td>\n",
              "    </tr>\n",
              "    <tr>\n",
              "      <th>5</th>\n",
              "      <td>4</td>\n",
              "      <td>5</td>\n",
              "      <td>3</td>\n",
              "      <td>6</td>\n",
              "      <td>3</td>\n",
              "      <td>30000</td>\n",
              "    </tr>\n",
              "    <tr>\n",
              "      <th>6</th>\n",
              "      <td>4</td>\n",
              "      <td>88</td>\n",
              "      <td>85</td>\n",
              "      <td>130</td>\n",
              "      <td>89</td>\n",
              "      <td>850000</td>\n",
              "    </tr>\n",
              "    <tr>\n",
              "      <th>7</th>\n",
              "      <td>1</td>\n",
              "      <td>2</td>\n",
              "      <td>0</td>\n",
              "      <td>5</td>\n",
              "      <td>0</td>\n",
              "      <td>9209</td>\n",
              "    </tr>\n",
              "    <tr>\n",
              "      <th>...</th>\n",
              "      <td>...</td>\n",
              "      <td>...</td>\n",
              "      <td>...</td>\n",
              "      <td>...</td>\n",
              "      <td>...</td>\n",
              "      <td>...</td>\n",
              "    </tr>\n",
              "    <tr>\n",
              "      <th>1860</th>\n",
              "      <td>10</td>\n",
              "      <td>43</td>\n",
              "      <td>28</td>\n",
              "      <td>76</td>\n",
              "      <td>29</td>\n",
              "      <td>329665</td>\n",
              "    </tr>\n",
              "    <tr>\n",
              "      <th>1862</th>\n",
              "      <td>2</td>\n",
              "      <td>6</td>\n",
              "      <td>4</td>\n",
              "      <td>12</td>\n",
              "      <td>4</td>\n",
              "      <td>40000</td>\n",
              "    </tr>\n",
              "    <tr>\n",
              "      <th>1864</th>\n",
              "      <td>5</td>\n",
              "      <td>63</td>\n",
              "      <td>28</td>\n",
              "      <td>187</td>\n",
              "      <td>30</td>\n",
              "      <td>439741</td>\n",
              "    </tr>\n",
              "    <tr>\n",
              "      <th>1865</th>\n",
              "      <td>3</td>\n",
              "      <td>17</td>\n",
              "      <td>10</td>\n",
              "      <td>99</td>\n",
              "      <td>10</td>\n",
              "      <td>116428</td>\n",
              "    </tr>\n",
              "    <tr>\n",
              "      <th>1868</th>\n",
              "      <td>4</td>\n",
              "      <td>20</td>\n",
              "      <td>27</td>\n",
              "      <td>47</td>\n",
              "      <td>38</td>\n",
              "      <td>270000</td>\n",
              "    </tr>\n",
              "  </tbody>\n",
              "</table>\n",
              "<p>1159 rows × 6 columns</p>\n",
              "</div>"
            ],
            "text/plain": [
              "         assignment_tries  problem_tries  ...  total_pre_score  total_score\n",
              "user_id                                   ...                              \n",
              "1                       1              2  ...                1        10000\n",
              "4                       1             41  ...               44       370000\n",
              "5                       4              5  ...                3        30000\n",
              "6                       4             88  ...               89       850000\n",
              "7                       1              2  ...                0         9209\n",
              "...                   ...            ...  ...              ...          ...\n",
              "1860                   10             43  ...               29       329665\n",
              "1862                    2              6  ...                4        40000\n",
              "1864                    5             63  ...               30       439741\n",
              "1865                    3             17  ...               10       116428\n",
              "1868                    4             20  ...               38       270000\n",
              "\n",
              "[1159 rows x 6 columns]"
            ]
          },
          "metadata": {
            "tags": []
          },
          "execution_count": 13
        }
      ]
    },
    {
      "cell_type": "code",
      "metadata": {
        "id": "i0FGz2P83Gy7"
      },
      "source": [
        "data = pd.merge(data, dataScore_training, how='left', on=['user_id'])"
      ],
      "execution_count": 14,
      "outputs": []
    },
    {
      "cell_type": "markdown",
      "metadata": {
        "id": "tbQUdIIn76Sr"
      },
      "source": [
        "## Xử lý missing data"
      ]
    },
    {
      "cell_type": "code",
      "metadata": {
        "colab": {
          "base_uri": "https://localhost:8080/",
          "height": 424
        },
        "id": "glqzpQMeCEEC",
        "outputId": "2d80081e-54c8-4fb4-e772-1bd2ee8ce73a"
      },
      "source": [
        "#Kiểm tra xem dữ liệu có bị thiếu hay không\n",
        "data.isna()"
      ],
      "execution_count": 15,
      "outputs": [
        {
          "output_type": "execute_result",
          "data": {
            "text/html": [
              "<div>\n",
              "<style scoped>\n",
              "    .dataframe tbody tr th:only-of-type {\n",
              "        vertical-align: middle;\n",
              "    }\n",
              "\n",
              "    .dataframe tbody tr th {\n",
              "        vertical-align: top;\n",
              "    }\n",
              "\n",
              "    .dataframe thead th {\n",
              "        text-align: right;\n",
              "    }\n",
              "</style>\n",
              "<table border=\"1\" class=\"dataframe\">\n",
              "  <thead>\n",
              "    <tr style=\"text-align: right;\">\n",
              "      <th></th>\n",
              "      <th>user_id</th>\n",
              "      <th>assignment_tries</th>\n",
              "      <th>problem_tries</th>\n",
              "      <th>completed_problem</th>\n",
              "      <th>submit_count</th>\n",
              "      <th>total_pre_score</th>\n",
              "      <th>total_score</th>\n",
              "      <th>CK</th>\n",
              "    </tr>\n",
              "  </thead>\n",
              "  <tbody>\n",
              "    <tr>\n",
              "      <th>0</th>\n",
              "      <td>False</td>\n",
              "      <td>False</td>\n",
              "      <td>False</td>\n",
              "      <td>False</td>\n",
              "      <td>False</td>\n",
              "      <td>False</td>\n",
              "      <td>False</td>\n",
              "      <td>True</td>\n",
              "    </tr>\n",
              "    <tr>\n",
              "      <th>1</th>\n",
              "      <td>False</td>\n",
              "      <td>False</td>\n",
              "      <td>False</td>\n",
              "      <td>False</td>\n",
              "      <td>False</td>\n",
              "      <td>False</td>\n",
              "      <td>False</td>\n",
              "      <td>True</td>\n",
              "    </tr>\n",
              "    <tr>\n",
              "      <th>2</th>\n",
              "      <td>False</td>\n",
              "      <td>False</td>\n",
              "      <td>False</td>\n",
              "      <td>False</td>\n",
              "      <td>False</td>\n",
              "      <td>False</td>\n",
              "      <td>False</td>\n",
              "      <td>True</td>\n",
              "    </tr>\n",
              "    <tr>\n",
              "      <th>3</th>\n",
              "      <td>False</td>\n",
              "      <td>False</td>\n",
              "      <td>False</td>\n",
              "      <td>False</td>\n",
              "      <td>False</td>\n",
              "      <td>False</td>\n",
              "      <td>False</td>\n",
              "      <td>True</td>\n",
              "    </tr>\n",
              "    <tr>\n",
              "      <th>4</th>\n",
              "      <td>False</td>\n",
              "      <td>False</td>\n",
              "      <td>False</td>\n",
              "      <td>False</td>\n",
              "      <td>False</td>\n",
              "      <td>False</td>\n",
              "      <td>False</td>\n",
              "      <td>True</td>\n",
              "    </tr>\n",
              "    <tr>\n",
              "      <th>...</th>\n",
              "      <td>...</td>\n",
              "      <td>...</td>\n",
              "      <td>...</td>\n",
              "      <td>...</td>\n",
              "      <td>...</td>\n",
              "      <td>...</td>\n",
              "      <td>...</td>\n",
              "      <td>...</td>\n",
              "    </tr>\n",
              "    <tr>\n",
              "      <th>1154</th>\n",
              "      <td>False</td>\n",
              "      <td>False</td>\n",
              "      <td>False</td>\n",
              "      <td>False</td>\n",
              "      <td>False</td>\n",
              "      <td>False</td>\n",
              "      <td>False</td>\n",
              "      <td>True</td>\n",
              "    </tr>\n",
              "    <tr>\n",
              "      <th>1155</th>\n",
              "      <td>False</td>\n",
              "      <td>False</td>\n",
              "      <td>False</td>\n",
              "      <td>False</td>\n",
              "      <td>False</td>\n",
              "      <td>False</td>\n",
              "      <td>False</td>\n",
              "      <td>False</td>\n",
              "    </tr>\n",
              "    <tr>\n",
              "      <th>1156</th>\n",
              "      <td>False</td>\n",
              "      <td>False</td>\n",
              "      <td>False</td>\n",
              "      <td>False</td>\n",
              "      <td>False</td>\n",
              "      <td>False</td>\n",
              "      <td>False</td>\n",
              "      <td>True</td>\n",
              "    </tr>\n",
              "    <tr>\n",
              "      <th>1157</th>\n",
              "      <td>False</td>\n",
              "      <td>False</td>\n",
              "      <td>False</td>\n",
              "      <td>False</td>\n",
              "      <td>False</td>\n",
              "      <td>False</td>\n",
              "      <td>False</td>\n",
              "      <td>False</td>\n",
              "    </tr>\n",
              "    <tr>\n",
              "      <th>1158</th>\n",
              "      <td>False</td>\n",
              "      <td>False</td>\n",
              "      <td>False</td>\n",
              "      <td>False</td>\n",
              "      <td>False</td>\n",
              "      <td>False</td>\n",
              "      <td>False</td>\n",
              "      <td>True</td>\n",
              "    </tr>\n",
              "  </tbody>\n",
              "</table>\n",
              "<p>1159 rows × 8 columns</p>\n",
              "</div>"
            ],
            "text/plain": [
              "      user_id  assignment_tries  ...  total_score     CK\n",
              "0       False             False  ...        False   True\n",
              "1       False             False  ...        False   True\n",
              "2       False             False  ...        False   True\n",
              "3       False             False  ...        False   True\n",
              "4       False             False  ...        False   True\n",
              "...       ...               ...  ...          ...    ...\n",
              "1154    False             False  ...        False   True\n",
              "1155    False             False  ...        False  False\n",
              "1156    False             False  ...        False   True\n",
              "1157    False             False  ...        False  False\n",
              "1158    False             False  ...        False   True\n",
              "\n",
              "[1159 rows x 8 columns]"
            ]
          },
          "metadata": {
            "tags": []
          },
          "execution_count": 15
        }
      ]
    },
    {
      "cell_type": "code",
      "metadata": {
        "colab": {
          "base_uri": "https://localhost:8080/"
        },
        "id": "ZzXdkabvBGHG",
        "outputId": "5379c95e-0cd4-4814-d6e7-0dea4391a4d0"
      },
      "source": [
        "check = list(data['CK'])\n",
        "unique, counts = np.unique(check, return_counts=True)\n",
        "print(dict(zip(unique, counts)))"
      ],
      "execution_count": 16,
      "outputs": [
        {
          "output_type": "stream",
          "text": [
            "{'0': 20, '0.5': 3, '1': 6, '1.5': 6, '10': 2, '2': 10, '2.5': 24, '3': 22, '3.5': 28, '4': 43, '4.5': 43, '5': 46, '5.5': 54, '6': 55, '6.5': 61, '7': 68, '7.5': 85, '8': 88, '8.5': 65, '9': 52, '9.5': 25, 'nan': 307, '\\xa0': 46}\n"
          ],
          "name": "stdout"
        }
      ]
    },
    {
      "cell_type": "markdown",
      "metadata": {
        "id": "PrN-Ip74Grl5"
      },
      "source": [
        "Sau khi kiểm tra thì ở cột cuối kỳ ngoài dạng missing data Nan thì còn có dạng là '\\xa0'. Để có thể xử lý được thì nhóm em sẽ đưa dạng '\\xa0' về Nan."
      ]
    },
    {
      "cell_type": "code",
      "metadata": {
        "colab": {
          "base_uri": "https://localhost:8080/"
        },
        "id": "elh36_Y2GrAs",
        "outputId": "ce52f49b-d4ef-414f-f14f-cafe1105e24a"
      },
      "source": [
        "for i in range(data.shape[0]):\n",
        "  if (data['CK'][i] == '\\xa0'):\n",
        "    data['CK'][i] = np.nan"
      ],
      "execution_count": 17,
      "outputs": [
        {
          "output_type": "stream",
          "text": [
            "/usr/local/lib/python3.7/dist-packages/ipykernel_launcher.py:3: SettingWithCopyWarning: \n",
            "A value is trying to be set on a copy of a slice from a DataFrame\n",
            "\n",
            "See the caveats in the documentation: https://pandas.pydata.org/pandas-docs/stable/user_guide/indexing.html#returning-a-view-versus-a-copy\n",
            "  This is separate from the ipykernel package so we can avoid doing imports until\n"
          ],
          "name": "stderr"
        }
      ]
    },
    {
      "cell_type": "code",
      "metadata": {
        "colab": {
          "base_uri": "https://localhost:8080/",
          "height": 300
        },
        "id": "Uqay3Dc0smM6",
        "outputId": "d16740a9-6d2f-4fd8-a0c1-b784ab8ac48e"
      },
      "source": [
        "data.describe()"
      ],
      "execution_count": 18,
      "outputs": [
        {
          "output_type": "execute_result",
          "data": {
            "text/html": [
              "<div>\n",
              "<style scoped>\n",
              "    .dataframe tbody tr th:only-of-type {\n",
              "        vertical-align: middle;\n",
              "    }\n",
              "\n",
              "    .dataframe tbody tr th {\n",
              "        vertical-align: top;\n",
              "    }\n",
              "\n",
              "    .dataframe thead th {\n",
              "        text-align: right;\n",
              "    }\n",
              "</style>\n",
              "<table border=\"1\" class=\"dataframe\">\n",
              "  <thead>\n",
              "    <tr style=\"text-align: right;\">\n",
              "      <th></th>\n",
              "      <th>user_id</th>\n",
              "      <th>assignment_tries</th>\n",
              "      <th>problem_tries</th>\n",
              "      <th>completed_problem</th>\n",
              "      <th>submit_count</th>\n",
              "      <th>total_pre_score</th>\n",
              "      <th>total_score</th>\n",
              "    </tr>\n",
              "  </thead>\n",
              "  <tbody>\n",
              "    <tr>\n",
              "      <th>count</th>\n",
              "      <td>1159.000000</td>\n",
              "      <td>1159.000000</td>\n",
              "      <td>1159.000000</td>\n",
              "      <td>1159.000000</td>\n",
              "      <td>1159.000000</td>\n",
              "      <td>1159.000000</td>\n",
              "      <td>1.159000e+03</td>\n",
              "    </tr>\n",
              "    <tr>\n",
              "      <th>mean</th>\n",
              "      <td>986.791199</td>\n",
              "      <td>10.668680</td>\n",
              "      <td>83.856773</td>\n",
              "      <td>82.253667</td>\n",
              "      <td>228.305436</td>\n",
              "      <td>86.143227</td>\n",
              "      <td>8.475944e+05</td>\n",
              "    </tr>\n",
              "    <tr>\n",
              "      <th>std</th>\n",
              "      <td>541.723042</td>\n",
              "      <td>6.650202</td>\n",
              "      <td>48.823058</td>\n",
              "      <td>52.006920</td>\n",
              "      <td>162.823765</td>\n",
              "      <td>55.046504</td>\n",
              "      <td>5.316463e+05</td>\n",
              "    </tr>\n",
              "    <tr>\n",
              "      <th>min</th>\n",
              "      <td>1.000000</td>\n",
              "      <td>1.000000</td>\n",
              "      <td>1.000000</td>\n",
              "      <td>0.000000</td>\n",
              "      <td>1.000000</td>\n",
              "      <td>0.000000</td>\n",
              "      <td>0.000000e+00</td>\n",
              "    </tr>\n",
              "    <tr>\n",
              "      <th>25%</th>\n",
              "      <td>520.500000</td>\n",
              "      <td>7.000000</td>\n",
              "      <td>47.000000</td>\n",
              "      <td>44.000000</td>\n",
              "      <td>102.500000</td>\n",
              "      <td>46.000000</td>\n",
              "      <td>4.500000e+05</td>\n",
              "    </tr>\n",
              "    <tr>\n",
              "      <th>50%</th>\n",
              "      <td>984.000000</td>\n",
              "      <td>11.000000</td>\n",
              "      <td>84.000000</td>\n",
              "      <td>80.000000</td>\n",
              "      <td>197.000000</td>\n",
              "      <td>83.000000</td>\n",
              "      <td>8.193600e+05</td>\n",
              "    </tr>\n",
              "    <tr>\n",
              "      <th>75%</th>\n",
              "      <td>1464.500000</td>\n",
              "      <td>14.000000</td>\n",
              "      <td>102.000000</td>\n",
              "      <td>103.500000</td>\n",
              "      <td>317.000000</td>\n",
              "      <td>110.000000</td>\n",
              "      <td>1.061826e+06</td>\n",
              "    </tr>\n",
              "    <tr>\n",
              "      <th>max</th>\n",
              "      <td>1868.000000</td>\n",
              "      <td>36.000000</td>\n",
              "      <td>212.000000</td>\n",
              "      <td>314.000000</td>\n",
              "      <td>1359.000000</td>\n",
              "      <td>331.000000</td>\n",
              "      <td>3.168763e+06</td>\n",
              "    </tr>\n",
              "  </tbody>\n",
              "</table>\n",
              "</div>"
            ],
            "text/plain": [
              "           user_id  assignment_tries  ...  total_pre_score   total_score\n",
              "count  1159.000000       1159.000000  ...      1159.000000  1.159000e+03\n",
              "mean    986.791199         10.668680  ...        86.143227  8.475944e+05\n",
              "std     541.723042          6.650202  ...        55.046504  5.316463e+05\n",
              "min       1.000000          1.000000  ...         0.000000  0.000000e+00\n",
              "25%     520.500000          7.000000  ...        46.000000  4.500000e+05\n",
              "50%     984.000000         11.000000  ...        83.000000  8.193600e+05\n",
              "75%    1464.500000         14.000000  ...       110.000000  1.061826e+06\n",
              "max    1868.000000         36.000000  ...       331.000000  3.168763e+06\n",
              "\n",
              "[8 rows x 7 columns]"
            ]
          },
          "metadata": {
            "tags": []
          },
          "execution_count": 18
        }
      ]
    },
    {
      "cell_type": "code",
      "metadata": {
        "colab": {
          "base_uri": "https://localhost:8080/",
          "height": 528
        },
        "id": "dyfWYZ5Uv2Z3",
        "outputId": "7b7a8c41-4ac4-4e86-b17d-b2ea836f47e1"
      },
      "source": [
        "#Loại bỏ các bộ dữ liệu bị NaN ở cột CK để những bộ đó sau khi hoàn thành model sẽ dự đoán sau\n",
        "dataTrain = data.dropna()\n",
        "dataTrain['CK'] = pd.to_numeric(dataTrain['CK'], errors='coerce' )\n",
        "dataTrain"
      ],
      "execution_count": 19,
      "outputs": [
        {
          "output_type": "stream",
          "text": [
            "/usr/local/lib/python3.7/dist-packages/ipykernel_launcher.py:2: SettingWithCopyWarning: \n",
            "A value is trying to be set on a copy of a slice from a DataFrame.\n",
            "Try using .loc[row_indexer,col_indexer] = value instead\n",
            "\n",
            "See the caveats in the documentation: https://pandas.pydata.org/pandas-docs/stable/user_guide/indexing.html#returning-a-view-versus-a-copy\n",
            "  \n"
          ],
          "name": "stderr"
        },
        {
          "output_type": "execute_result",
          "data": {
            "text/html": [
              "<div>\n",
              "<style scoped>\n",
              "    .dataframe tbody tr th:only-of-type {\n",
              "        vertical-align: middle;\n",
              "    }\n",
              "\n",
              "    .dataframe tbody tr th {\n",
              "        vertical-align: top;\n",
              "    }\n",
              "\n",
              "    .dataframe thead th {\n",
              "        text-align: right;\n",
              "    }\n",
              "</style>\n",
              "<table border=\"1\" class=\"dataframe\">\n",
              "  <thead>\n",
              "    <tr style=\"text-align: right;\">\n",
              "      <th></th>\n",
              "      <th>user_id</th>\n",
              "      <th>assignment_tries</th>\n",
              "      <th>problem_tries</th>\n",
              "      <th>completed_problem</th>\n",
              "      <th>submit_count</th>\n",
              "      <th>total_pre_score</th>\n",
              "      <th>total_score</th>\n",
              "      <th>CK</th>\n",
              "    </tr>\n",
              "  </thead>\n",
              "  <tbody>\n",
              "    <tr>\n",
              "      <th>9</th>\n",
              "      <td>24</td>\n",
              "      <td>15</td>\n",
              "      <td>78</td>\n",
              "      <td>72</td>\n",
              "      <td>164</td>\n",
              "      <td>80</td>\n",
              "      <td>750299</td>\n",
              "      <td>9.5</td>\n",
              "    </tr>\n",
              "    <tr>\n",
              "      <th>10</th>\n",
              "      <td>27</td>\n",
              "      <td>2</td>\n",
              "      <td>5</td>\n",
              "      <td>3</td>\n",
              "      <td>13</td>\n",
              "      <td>4</td>\n",
              "      <td>39000</td>\n",
              "      <td>10.0</td>\n",
              "    </tr>\n",
              "    <tr>\n",
              "      <th>11</th>\n",
              "      <td>29</td>\n",
              "      <td>13</td>\n",
              "      <td>80</td>\n",
              "      <td>72</td>\n",
              "      <td>199</td>\n",
              "      <td>75</td>\n",
              "      <td>762760</td>\n",
              "      <td>8.5</td>\n",
              "    </tr>\n",
              "    <tr>\n",
              "      <th>13</th>\n",
              "      <td>34</td>\n",
              "      <td>11</td>\n",
              "      <td>84</td>\n",
              "      <td>81</td>\n",
              "      <td>218</td>\n",
              "      <td>81</td>\n",
              "      <td>822888</td>\n",
              "      <td>6.5</td>\n",
              "    </tr>\n",
              "    <tr>\n",
              "      <th>14</th>\n",
              "      <td>35</td>\n",
              "      <td>25</td>\n",
              "      <td>147</td>\n",
              "      <td>145</td>\n",
              "      <td>297</td>\n",
              "      <td>152</td>\n",
              "      <td>1477000</td>\n",
              "      <td>4.5</td>\n",
              "    </tr>\n",
              "    <tr>\n",
              "      <th>...</th>\n",
              "      <td>...</td>\n",
              "      <td>...</td>\n",
              "      <td>...</td>\n",
              "      <td>...</td>\n",
              "      <td>...</td>\n",
              "      <td>...</td>\n",
              "      <td>...</td>\n",
              "      <td>...</td>\n",
              "    </tr>\n",
              "    <tr>\n",
              "      <th>1151</th>\n",
              "      <td>1856</td>\n",
              "      <td>5</td>\n",
              "      <td>31</td>\n",
              "      <td>23</td>\n",
              "      <td>64</td>\n",
              "      <td>23</td>\n",
              "      <td>270790</td>\n",
              "      <td>7.5</td>\n",
              "    </tr>\n",
              "    <tr>\n",
              "      <th>1152</th>\n",
              "      <td>1857</td>\n",
              "      <td>6</td>\n",
              "      <td>34</td>\n",
              "      <td>37</td>\n",
              "      <td>55</td>\n",
              "      <td>37</td>\n",
              "      <td>386000</td>\n",
              "      <td>4.0</td>\n",
              "    </tr>\n",
              "    <tr>\n",
              "      <th>1153</th>\n",
              "      <td>1859</td>\n",
              "      <td>7</td>\n",
              "      <td>27</td>\n",
              "      <td>3</td>\n",
              "      <td>31</td>\n",
              "      <td>3</td>\n",
              "      <td>39000</td>\n",
              "      <td>1.5</td>\n",
              "    </tr>\n",
              "    <tr>\n",
              "      <th>1155</th>\n",
              "      <td>1862</td>\n",
              "      <td>2</td>\n",
              "      <td>6</td>\n",
              "      <td>4</td>\n",
              "      <td>12</td>\n",
              "      <td>4</td>\n",
              "      <td>40000</td>\n",
              "      <td>7.5</td>\n",
              "    </tr>\n",
              "    <tr>\n",
              "      <th>1157</th>\n",
              "      <td>1865</td>\n",
              "      <td>3</td>\n",
              "      <td>17</td>\n",
              "      <td>10</td>\n",
              "      <td>99</td>\n",
              "      <td>10</td>\n",
              "      <td>116428</td>\n",
              "      <td>7.5</td>\n",
              "    </tr>\n",
              "  </tbody>\n",
              "</table>\n",
              "<p>806 rows × 8 columns</p>\n",
              "</div>"
            ],
            "text/plain": [
              "      user_id  assignment_tries  ...  total_score    CK\n",
              "9          24                15  ...       750299   9.5\n",
              "10         27                 2  ...        39000  10.0\n",
              "11         29                13  ...       762760   8.5\n",
              "13         34                11  ...       822888   6.5\n",
              "14         35                25  ...      1477000   4.5\n",
              "...       ...               ...  ...          ...   ...\n",
              "1151     1856                 5  ...       270790   7.5\n",
              "1152     1857                 6  ...       386000   4.0\n",
              "1153     1859                 7  ...        39000   1.5\n",
              "1155     1862                 2  ...        40000   7.5\n",
              "1157     1865                 3  ...       116428   7.5\n",
              "\n",
              "[806 rows x 8 columns]"
            ]
          },
          "metadata": {
            "tags": []
          },
          "execution_count": 19
        }
      ]
    },
    {
      "cell_type": "markdown",
      "metadata": {
        "id": "o7LSsdZ2a7r5"
      },
      "source": [
        "# Visualize "
      ]
    },
    {
      "cell_type": "markdown",
      "metadata": {
        "id": "3ATrLdyUwDWO"
      },
      "source": [
        "Vẽ các đồ thị liên quan đến bài toán này"
      ]
    },
    {
      "cell_type": "code",
      "metadata": {
        "colab": {
          "base_uri": "https://localhost:8080/",
          "height": 314
        },
        "id": "BeJgAHjwwAQo",
        "outputId": "85830354-c989-4bb7-cde0-321809a0fa33"
      },
      "source": [
        "plt.figure(figsize = (30, 20))\n",
        "\n",
        "# Visualize giữa problemsTries và CK\n",
        "plt.subplot(4, 4, 1)\n",
        "plt.plot(dataTrain['problem_tries'], dataTrain['CK'], '.')\n",
        "plt.xlabel('Problems Tries')\n",
        "plt.ylabel('CK')\n",
        "plt.title('Visualize Problems_tries & CK')\n",
        "\n",
        "# Visualize giữa assignment_tries và CK\n",
        "plt.subplot(4, 4, 2)\n",
        "plt.plot(dataTrain['assignment_tries'], dataTrain['CK'], '.')\n",
        "plt.xlabel('Assignment Tries')\n",
        "plt.ylabel('CK')\n",
        "plt.title('Visualize Assignment Tries & CK')\n",
        "\n",
        "# Visualize giữa assignment_tries và CK\n",
        "plt.subplot(4, 4, 3)\n",
        "plt.plot(dataTrain['completed_problem'], dataTrain['CK'], '.')\n",
        "plt.xlabel('Completed problem')\n",
        "plt.ylabel('CK')\n",
        "plt.title('Visualize Completed_problem & CK')\n",
        "\n",
        "plt.show()"
      ],
      "execution_count": 20,
      "outputs": [
        {
          "output_type": "display_data",
          "data": {
            "image/png": "[encoded data removed]",
            "text/plain": [
              "<Figure size 2160x1440 with 3 Axes>"
            ]
          },
          "metadata": {
            "tags": [],
            "needs_background": "light"
          }
        }
      ]
    },
    {
      "cell_type": "code",
      "metadata": {
        "id": "sWV2Zh9ozhZC",
        "colab": {
          "base_uri": "https://localhost:8080/",
          "height": 314
        },
        "outputId": "4994ed8b-5bd1-4920-86d0-39b011043fc3"
      },
      "source": [
        "plt.figure(figsize = (30, 20))\n",
        "\n",
        "# Visualize giữa problemsTries và CK\n",
        "plt.subplot(4, 4, 1)\n",
        "plt.plot(dataTrain['submit_count'], dataTrain['CK'], '.')\n",
        "plt.xlabel('Submit count')\n",
        "plt.ylabel('CK')\n",
        "plt.title('Visualize Submit count & CK')\n",
        "\n",
        "# Visualize giữa assignment_tries và CK\n",
        "plt.subplot(4, 4, 2)\n",
        "plt.plot(dataTrain['total_pre_score'], dataTrain['CK'], '.')\n",
        "plt.xlabel('Total pre score')\n",
        "plt.ylabel('CK')\n",
        "plt.title('Visualize Total_pre_score & CK')\n",
        "\n",
        "# Visualize giữa assignment_tries và CK\n",
        "plt.subplot(4, 4, 3)\n",
        "plt.plot(dataTrain['total_score'], dataTrain['CK'], '.')\n",
        "plt.xlabel('Total score')\n",
        "plt.ylabel('CK')\n",
        "plt.title('Visualize Total_score & CK')\n",
        "\n",
        "plt.show()"
      ],
      "execution_count": 21,
      "outputs": [
        {
          "output_type": "display_data",
          "data": {
            "image/png": "[encoded data removed]",
            "text/plain": [
              "<Figure size 2160x1440 with 3 Axes>"
            ]
          },
          "metadata": {
            "tags": [],
            "needs_background": "light"
          }
        }
      ]
    },
    {
      "cell_type": "markdown",
      "metadata": {
        "id": "w51Nh1g_mxrC"
      },
      "source": [
        "# Solving Problem"
      ]
    },
    {
      "cell_type": "markdown",
      "metadata": {
        "id": "s5Vn9m7s0-DH"
      },
      "source": [
        "## Split data set"
      ]
    },
    {
      "cell_type": "markdown",
      "metadata": {
        "id": "JlSB6Ji_a9J_"
      },
      "source": [
        "Chia tập data set làm 2 phần: 1 phần dể train model và 1 phần để kiểm tra độ chính xác của model"
      ]
    },
    {
      "cell_type": "code",
      "metadata": {
        "id": "FBlfEMm60eUI"
      },
      "source": [
        "X = dataTrain[['assignment_tries',\t'problem_tries',\t'completed_problem',\t'submit_count',\t'total_pre_score',\t'total_score']]\n",
        "Y = dataTrain['CK']"
      ],
      "execution_count": 22,
      "outputs": []
    },
    {
      "cell_type": "code",
      "metadata": {
        "id": "e3paDC60sn_Q"
      },
      "source": [
        "X_train, X_test, y_train, y_test = train_test_split(X,Y, test_size=0.2, random_state=42)"
      ],
      "execution_count": 23,
      "outputs": []
    },
    {
      "cell_type": "markdown",
      "metadata": {
        "id": "V1oIifbN1Bit"
      },
      "source": [
        "## Linear Regression"
      ]
    },
    {
      "cell_type": "markdown",
      "metadata": {
        "id": "BFwJMd7RbHZz"
      },
      "source": [
        "-Trước tiên, nhóm em sẽ thử sử dụng mô hình Linear Regression để dự đoán điểm cuối kỳ"
      ]
    },
    {
      "cell_type": "code",
      "metadata": {
        "colab": {
          "base_uri": "https://localhost:8080/"
        },
        "id": "t7bbvYe009dO",
        "outputId": "0f792fd7-2747-4847-e666-ccb3c6f2a981"
      },
      "source": [
        "CK_lr = LinearRegression().fit(X_train, y_train)\n",
        "CK_lr.intercept_ , CK_lr.coef_"
      ],
      "execution_count": 24,
      "outputs": [
        {
          "output_type": "execute_result",
          "data": {
            "text/plain": [
              "(5.520555897055645,\n",
              " array([-1.24412445e-01, -9.56053542e-03, -1.00719242e-01,  2.44710788e-03,\n",
              "         4.52405131e-03,  1.18776868e-05]))"
            ]
          },
          "metadata": {
            "tags": []
          },
          "execution_count": 24
        }
      ]
    },
    {
      "cell_type": "code",
      "metadata": {
        "colab": {
          "base_uri": "https://localhost:8080/"
        },
        "id": "7YGmf-n925AW",
        "outputId": "5eac3d62-062f-47aa-f0be-84500bfdc1df"
      },
      "source": [
        "y_pred = CK_lr.predict(X_train)\n",
        "mse = sklearn.metrics.mean_squared_error(y_train, y_pred)\n",
        "print(\"MSE of Data Train:\", mse)"
      ],
      "execution_count": 25,
      "outputs": [
        {
          "output_type": "stream",
          "text": [
            "MSE of Data Train: 4.058750803393181\n"
          ],
          "name": "stdout"
        }
      ]
    },
    {
      "cell_type": "code",
      "metadata": {
        "colab": {
          "base_uri": "https://localhost:8080/"
        },
        "id": "opkadl9I3RbX",
        "outputId": "7e2ba258-4057-4159-9bff-40baff2d9542"
      },
      "source": [
        "# Tính trung bình cộng thời gian chạy của Data Test\n",
        "print(\"Average of y_test:\", np.average(y_test))\n",
        "\n",
        "# Mean Square Error of Data Test \n",
        "y_pred = CK_lr.predict(X_test)\n",
        "mse = sklearn.metrics.mean_squared_error(y_test, y_pred)\n",
        "print(\"MSE of Data Test:\", mse)\n",
        "\n",
        "error = math.sqrt(mse) / np.average(y_test)\n",
        "print(\"Error(%):\", error*100)"
      ],
      "execution_count": 26,
      "outputs": [
        {
          "output_type": "stream",
          "text": [
            "Average of y_test: 6.2592592592592595\n",
            "MSE of Data Test: 3.8293461583613726\n",
            "Error(%): 31.263627885649054\n"
          ],
          "name": "stdout"
        }
      ]
    },
    {
      "cell_type": "markdown",
      "metadata": {
        "id": "b0j0xjXr1mjG"
      },
      "source": [
        "## Support Vector Machine"
      ]
    },
    {
      "cell_type": "markdown",
      "metadata": {
        "id": "qYcd8dCAbR2L"
      },
      "source": [
        "Ngoài mô hình Linear Regression ở trên, nhóm em còn thử thêm một phương pháp khác là Support Vector Machine để xem có hiệu quả hay không"
      ]
    },
    {
      "cell_type": "code",
      "metadata": {
        "id": "oB85hiBZ1sNp"
      },
      "source": [
        "CK_svm = svm.SVR().fit(X_train, y_train)"
      ],
      "execution_count": 32,
      "outputs": []
    },
    {
      "cell_type": "code",
      "metadata": {
        "colab": {
          "base_uri": "https://localhost:8080/"
        },
        "id": "FBlcm61XUCK5",
        "outputId": "ba69f6b1-2020-421d-93f7-4abe95c8b8f5"
      },
      "source": [
        "# Tính trung bình cộng thời gian chạy của Data Test\n",
        "print(\"Average of y_test:\", np.average(y_test))\n",
        "\n",
        "# Mean Square Error of Data Test \n",
        "y_pred_svm = CK_svm.predict(X_test)\n",
        "mse = sklearn.metrics.mean_squared_error(y_test, y_pred_svm)\n",
        "print(\"MSE of Data Test:\", mse)\n",
        "\n",
        "error = math.sqrt(mse) / np.average(y_test)\n",
        "print(\"Error(%):\", error*100)"
      ],
      "execution_count": 33,
      "outputs": [
        {
          "output_type": "stream",
          "text": [
            "Average of y_test: 6.2592592592592595\n",
            "MSE of Data Test: 4.447715119229711\n",
            "Error(%): 33.69345453514848\n"
          ],
          "name": "stdout"
        }
      ]
    },
    {
      "cell_type": "markdown",
      "metadata": {
        "id": "jGV47jo48QbX"
      },
      "source": [
        "# Link tham khảo"
      ]
    },
    {
      "cell_type": "markdown",
      "metadata": {
        "id": "o0IEdCeB8USc"
      },
      "source": [
        "**Link tham khảo**:\n",
        "  - Xử lý dữ liệu: https://pandas.pydata.org/pandas-docs/stable/reference/frame.html\n",
        "  - Working missing data: https://pandas.pydata.org/pandas-docs/stable/user_guide/missing_data.html\n",
        "  - Mô hình Linear Regression: https://scikit-learn.org/stable/modules/generated/sklearn.linear_model.LinearRegression.html\n",
        "  - Mô hình SVM: https://scikit-learn.org/stable/modules/svm.html"
      ]
    }
  ]
}